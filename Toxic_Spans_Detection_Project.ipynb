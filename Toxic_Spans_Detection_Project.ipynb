{
  "nbformat": 4,
  "nbformat_minor": 0,
  "metadata": {
    "colab": {
      "name": "Toxic_Spans_Detection_Project.ipynb",
      "provenance": [],
      "collapsed_sections": [],
      "machine_shape": "hm"
    },
    "kernelspec": {
      "name": "python3",
      "display_name": "Python 3"
    },
    "language_info": {
      "name": "python"
    },
    "accelerator": "GPU",
    "widgets": {
      "application/vnd.jupyter.widget-state+json": {
        "aeaf3007eb314944bc7b548eb6df3a13": {
          "model_module": "@jupyter-widgets/controls",
          "model_name": "HBoxModel",
          "model_module_version": "1.5.0",
          "state": {
            "_view_name": "HBoxView",
            "_dom_classes": [],
            "_model_name": "HBoxModel",
            "_view_module": "@jupyter-widgets/controls",
            "_model_module_version": "1.5.0",
            "_view_count": null,
            "_view_module_version": "1.5.0",
            "box_style": "",
            "layout": "IPY_MODEL_b1625813ef6e4b529e02df960ee666be",
            "_model_module": "@jupyter-widgets/controls",
            "children": [
              "IPY_MODEL_2e27b9f2c78043239012e8d15007ba91",
              "IPY_MODEL_89d1230eb0af4973bda26c8d8500df91",
              "IPY_MODEL_0863504ed7884445840161102031c47c"
            ]
          }
        },
        "b1625813ef6e4b529e02df960ee666be": {
          "model_module": "@jupyter-widgets/base",
          "model_name": "LayoutModel",
          "model_module_version": "1.2.0",
          "state": {
            "_view_name": "LayoutView",
            "grid_template_rows": null,
            "right": null,
            "justify_content": null,
            "_view_module": "@jupyter-widgets/base",
            "overflow": null,
            "_model_module_version": "1.2.0",
            "_view_count": null,
            "flex_flow": null,
            "width": null,
            "min_width": null,
            "border": null,
            "align_items": null,
            "bottom": null,
            "_model_module": "@jupyter-widgets/base",
            "top": null,
            "grid_column": null,
            "overflow_y": null,
            "overflow_x": null,
            "grid_auto_flow": null,
            "grid_area": null,
            "grid_template_columns": null,
            "flex": null,
            "_model_name": "LayoutModel",
            "justify_items": null,
            "grid_row": null,
            "max_height": null,
            "align_content": null,
            "visibility": null,
            "align_self": null,
            "height": null,
            "min_height": null,
            "padding": null,
            "grid_auto_rows": null,
            "grid_gap": null,
            "max_width": null,
            "order": null,
            "_view_module_version": "1.2.0",
            "grid_template_areas": null,
            "object_position": null,
            "object_fit": null,
            "grid_auto_columns": null,
            "margin": null,
            "display": null,
            "left": null
          }
        },
        "2e27b9f2c78043239012e8d15007ba91": {
          "model_module": "@jupyter-widgets/controls",
          "model_name": "HTMLModel",
          "model_module_version": "1.5.0",
          "state": {
            "_view_name": "HTMLView",
            "style": "IPY_MODEL_c51dcea587e7415ba14db347da17d18d",
            "_dom_classes": [],
            "description": "",
            "_model_name": "HTMLModel",
            "placeholder": "​",
            "_view_module": "@jupyter-widgets/controls",
            "_model_module_version": "1.5.0",
            "value": "Downloading: 100%",
            "_view_count": null,
            "_view_module_version": "1.5.0",
            "description_tooltip": null,
            "_model_module": "@jupyter-widgets/controls",
            "layout": "IPY_MODEL_4a40af4f94af4fb0be0a33991a221c72"
          }
        },
        "89d1230eb0af4973bda26c8d8500df91": {
          "model_module": "@jupyter-widgets/controls",
          "model_name": "FloatProgressModel",
          "model_module_version": "1.5.0",
          "state": {
            "_view_name": "ProgressView",
            "style": "IPY_MODEL_761c854e10814e5fbb0288f99b29eb90",
            "_dom_classes": [],
            "description": "",
            "_model_name": "FloatProgressModel",
            "bar_style": "success",
            "max": 231508,
            "_view_module": "@jupyter-widgets/controls",
            "_model_module_version": "1.5.0",
            "value": 231508,
            "_view_count": null,
            "_view_module_version": "1.5.0",
            "orientation": "horizontal",
            "min": 0,
            "description_tooltip": null,
            "_model_module": "@jupyter-widgets/controls",
            "layout": "IPY_MODEL_26d2323fd77c48c38b439fb7861393c5"
          }
        },
        "0863504ed7884445840161102031c47c": {
          "model_module": "@jupyter-widgets/controls",
          "model_name": "HTMLModel",
          "model_module_version": "1.5.0",
          "state": {
            "_view_name": "HTMLView",
            "style": "IPY_MODEL_59909e148b484abebf2f4a2dd9987584",
            "_dom_classes": [],
            "description": "",
            "_model_name": "HTMLModel",
            "placeholder": "​",
            "_view_module": "@jupyter-widgets/controls",
            "_model_module_version": "1.5.0",
            "value": " 226k/226k [00:00&lt;00:00, 946kB/s]",
            "_view_count": null,
            "_view_module_version": "1.5.0",
            "description_tooltip": null,
            "_model_module": "@jupyter-widgets/controls",
            "layout": "IPY_MODEL_7cb161d5628540708f0096552425ca45"
          }
        },
        "c51dcea587e7415ba14db347da17d18d": {
          "model_module": "@jupyter-widgets/controls",
          "model_name": "DescriptionStyleModel",
          "model_module_version": "1.5.0",
          "state": {
            "_view_name": "StyleView",
            "_model_name": "DescriptionStyleModel",
            "description_width": "",
            "_view_module": "@jupyter-widgets/base",
            "_model_module_version": "1.5.0",
            "_view_count": null,
            "_view_module_version": "1.2.0",
            "_model_module": "@jupyter-widgets/controls"
          }
        },
        "4a40af4f94af4fb0be0a33991a221c72": {
          "model_module": "@jupyter-widgets/base",
          "model_name": "LayoutModel",
          "model_module_version": "1.2.0",
          "state": {
            "_view_name": "LayoutView",
            "grid_template_rows": null,
            "right": null,
            "justify_content": null,
            "_view_module": "@jupyter-widgets/base",
            "overflow": null,
            "_model_module_version": "1.2.0",
            "_view_count": null,
            "flex_flow": null,
            "width": null,
            "min_width": null,
            "border": null,
            "align_items": null,
            "bottom": null,
            "_model_module": "@jupyter-widgets/base",
            "top": null,
            "grid_column": null,
            "overflow_y": null,
            "overflow_x": null,
            "grid_auto_flow": null,
            "grid_area": null,
            "grid_template_columns": null,
            "flex": null,
            "_model_name": "LayoutModel",
            "justify_items": null,
            "grid_row": null,
            "max_height": null,
            "align_content": null,
            "visibility": null,
            "align_self": null,
            "height": null,
            "min_height": null,
            "padding": null,
            "grid_auto_rows": null,
            "grid_gap": null,
            "max_width": null,
            "order": null,
            "_view_module_version": "1.2.0",
            "grid_template_areas": null,
            "object_position": null,
            "object_fit": null,
            "grid_auto_columns": null,
            "margin": null,
            "display": null,
            "left": null
          }
        },
        "761c854e10814e5fbb0288f99b29eb90": {
          "model_module": "@jupyter-widgets/controls",
          "model_name": "ProgressStyleModel",
          "model_module_version": "1.5.0",
          "state": {
            "_view_name": "StyleView",
            "_model_name": "ProgressStyleModel",
            "description_width": "",
            "_view_module": "@jupyter-widgets/base",
            "_model_module_version": "1.5.0",
            "_view_count": null,
            "_view_module_version": "1.2.0",
            "bar_color": null,
            "_model_module": "@jupyter-widgets/controls"
          }
        },
        "26d2323fd77c48c38b439fb7861393c5": {
          "model_module": "@jupyter-widgets/base",
          "model_name": "LayoutModel",
          "model_module_version": "1.2.0",
          "state": {
            "_view_name": "LayoutView",
            "grid_template_rows": null,
            "right": null,
            "justify_content": null,
            "_view_module": "@jupyter-widgets/base",
            "overflow": null,
            "_model_module_version": "1.2.0",
            "_view_count": null,
            "flex_flow": null,
            "width": null,
            "min_width": null,
            "border": null,
            "align_items": null,
            "bottom": null,
            "_model_module": "@jupyter-widgets/base",
            "top": null,
            "grid_column": null,
            "overflow_y": null,
            "overflow_x": null,
            "grid_auto_flow": null,
            "grid_area": null,
            "grid_template_columns": null,
            "flex": null,
            "_model_name": "LayoutModel",
            "justify_items": null,
            "grid_row": null,
            "max_height": null,
            "align_content": null,
            "visibility": null,
            "align_self": null,
            "height": null,
            "min_height": null,
            "padding": null,
            "grid_auto_rows": null,
            "grid_gap": null,
            "max_width": null,
            "order": null,
            "_view_module_version": "1.2.0",
            "grid_template_areas": null,
            "object_position": null,
            "object_fit": null,
            "grid_auto_columns": null,
            "margin": null,
            "display": null,
            "left": null
          }
        },
        "59909e148b484abebf2f4a2dd9987584": {
          "model_module": "@jupyter-widgets/controls",
          "model_name": "DescriptionStyleModel",
          "model_module_version": "1.5.0",
          "state": {
            "_view_name": "StyleView",
            "_model_name": "DescriptionStyleModel",
            "description_width": "",
            "_view_module": "@jupyter-widgets/base",
            "_model_module_version": "1.5.0",
            "_view_count": null,
            "_view_module_version": "1.2.0",
            "_model_module": "@jupyter-widgets/controls"
          }
        },
        "7cb161d5628540708f0096552425ca45": {
          "model_module": "@jupyter-widgets/base",
          "model_name": "LayoutModel",
          "model_module_version": "1.2.0",
          "state": {
            "_view_name": "LayoutView",
            "grid_template_rows": null,
            "right": null,
            "justify_content": null,
            "_view_module": "@jupyter-widgets/base",
            "overflow": null,
            "_model_module_version": "1.2.0",
            "_view_count": null,
            "flex_flow": null,
            "width": null,
            "min_width": null,
            "border": null,
            "align_items": null,
            "bottom": null,
            "_model_module": "@jupyter-widgets/base",
            "top": null,
            "grid_column": null,
            "overflow_y": null,
            "overflow_x": null,
            "grid_auto_flow": null,
            "grid_area": null,
            "grid_template_columns": null,
            "flex": null,
            "_model_name": "LayoutModel",
            "justify_items": null,
            "grid_row": null,
            "max_height": null,
            "align_content": null,
            "visibility": null,
            "align_self": null,
            "height": null,
            "min_height": null,
            "padding": null,
            "grid_auto_rows": null,
            "grid_gap": null,
            "max_width": null,
            "order": null,
            "_view_module_version": "1.2.0",
            "grid_template_areas": null,
            "object_position": null,
            "object_fit": null,
            "grid_auto_columns": null,
            "margin": null,
            "display": null,
            "left": null
          }
        },
        "efc763b9aa98434a9f189f94e6104425": {
          "model_module": "@jupyter-widgets/controls",
          "model_name": "HBoxModel",
          "model_module_version": "1.5.0",
          "state": {
            "_view_name": "HBoxView",
            "_dom_classes": [],
            "_model_name": "HBoxModel",
            "_view_module": "@jupyter-widgets/controls",
            "_model_module_version": "1.5.0",
            "_view_count": null,
            "_view_module_version": "1.5.0",
            "box_style": "",
            "layout": "IPY_MODEL_e6d3fe6cc3a44d43afce71d207c8dfa4",
            "_model_module": "@jupyter-widgets/controls",
            "children": [
              "IPY_MODEL_951af8c44b4646068295c7072ffe8744",
              "IPY_MODEL_3fa9e667702342b4b9af971eb9483ee8",
              "IPY_MODEL_91429a945bf34e61a8e21264db758926"
            ]
          }
        },
        "e6d3fe6cc3a44d43afce71d207c8dfa4": {
          "model_module": "@jupyter-widgets/base",
          "model_name": "LayoutModel",
          "model_module_version": "1.2.0",
          "state": {
            "_view_name": "LayoutView",
            "grid_template_rows": null,
            "right": null,
            "justify_content": null,
            "_view_module": "@jupyter-widgets/base",
            "overflow": null,
            "_model_module_version": "1.2.0",
            "_view_count": null,
            "flex_flow": null,
            "width": null,
            "min_width": null,
            "border": null,
            "align_items": null,
            "bottom": null,
            "_model_module": "@jupyter-widgets/base",
            "top": null,
            "grid_column": null,
            "overflow_y": null,
            "overflow_x": null,
            "grid_auto_flow": null,
            "grid_area": null,
            "grid_template_columns": null,
            "flex": null,
            "_model_name": "LayoutModel",
            "justify_items": null,
            "grid_row": null,
            "max_height": null,
            "align_content": null,
            "visibility": null,
            "align_self": null,
            "height": null,
            "min_height": null,
            "padding": null,
            "grid_auto_rows": null,
            "grid_gap": null,
            "max_width": null,
            "order": null,
            "_view_module_version": "1.2.0",
            "grid_template_areas": null,
            "object_position": null,
            "object_fit": null,
            "grid_auto_columns": null,
            "margin": null,
            "display": null,
            "left": null
          }
        },
        "951af8c44b4646068295c7072ffe8744": {
          "model_module": "@jupyter-widgets/controls",
          "model_name": "HTMLModel",
          "model_module_version": "1.5.0",
          "state": {
            "_view_name": "HTMLView",
            "style": "IPY_MODEL_f3b99c9966a342698dd323150583833c",
            "_dom_classes": [],
            "description": "",
            "_model_name": "HTMLModel",
            "placeholder": "​",
            "_view_module": "@jupyter-widgets/controls",
            "_model_module_version": "1.5.0",
            "value": "Downloading: 100%",
            "_view_count": null,
            "_view_module_version": "1.5.0",
            "description_tooltip": null,
            "_model_module": "@jupyter-widgets/controls",
            "layout": "IPY_MODEL_fb3ae1e826b04410a38ecf3e82e91a23"
          }
        },
        "3fa9e667702342b4b9af971eb9483ee8": {
          "model_module": "@jupyter-widgets/controls",
          "model_name": "FloatProgressModel",
          "model_module_version": "1.5.0",
          "state": {
            "_view_name": "ProgressView",
            "style": "IPY_MODEL_2261f83213624a5c9de20aba7563da98",
            "_dom_classes": [],
            "description": "",
            "_model_name": "FloatProgressModel",
            "bar_style": "success",
            "max": 466062,
            "_view_module": "@jupyter-widgets/controls",
            "_model_module_version": "1.5.0",
            "value": 466062,
            "_view_count": null,
            "_view_module_version": "1.5.0",
            "orientation": "horizontal",
            "min": 0,
            "description_tooltip": null,
            "_model_module": "@jupyter-widgets/controls",
            "layout": "IPY_MODEL_bf3666834c564eaa806e2d1fba6af801"
          }
        },
        "91429a945bf34e61a8e21264db758926": {
          "model_module": "@jupyter-widgets/controls",
          "model_name": "HTMLModel",
          "model_module_version": "1.5.0",
          "state": {
            "_view_name": "HTMLView",
            "style": "IPY_MODEL_eb9c49bed6f24a9997f443ec762f9219",
            "_dom_classes": [],
            "description": "",
            "_model_name": "HTMLModel",
            "placeholder": "​",
            "_view_module": "@jupyter-widgets/controls",
            "_model_module_version": "1.5.0",
            "value": " 455k/455k [00:00&lt;00:00, 2.85MB/s]",
            "_view_count": null,
            "_view_module_version": "1.5.0",
            "description_tooltip": null,
            "_model_module": "@jupyter-widgets/controls",
            "layout": "IPY_MODEL_fb46da2e52a7426698dba08966e92fe6"
          }
        },
        "f3b99c9966a342698dd323150583833c": {
          "model_module": "@jupyter-widgets/controls",
          "model_name": "DescriptionStyleModel",
          "model_module_version": "1.5.0",
          "state": {
            "_view_name": "StyleView",
            "_model_name": "DescriptionStyleModel",
            "description_width": "",
            "_view_module": "@jupyter-widgets/base",
            "_model_module_version": "1.5.0",
            "_view_count": null,
            "_view_module_version": "1.2.0",
            "_model_module": "@jupyter-widgets/controls"
          }
        },
        "fb3ae1e826b04410a38ecf3e82e91a23": {
          "model_module": "@jupyter-widgets/base",
          "model_name": "LayoutModel",
          "model_module_version": "1.2.0",
          "state": {
            "_view_name": "LayoutView",
            "grid_template_rows": null,
            "right": null,
            "justify_content": null,
            "_view_module": "@jupyter-widgets/base",
            "overflow": null,
            "_model_module_version": "1.2.0",
            "_view_count": null,
            "flex_flow": null,
            "width": null,
            "min_width": null,
            "border": null,
            "align_items": null,
            "bottom": null,
            "_model_module": "@jupyter-widgets/base",
            "top": null,
            "grid_column": null,
            "overflow_y": null,
            "overflow_x": null,
            "grid_auto_flow": null,
            "grid_area": null,
            "grid_template_columns": null,
            "flex": null,
            "_model_name": "LayoutModel",
            "justify_items": null,
            "grid_row": null,
            "max_height": null,
            "align_content": null,
            "visibility": null,
            "align_self": null,
            "height": null,
            "min_height": null,
            "padding": null,
            "grid_auto_rows": null,
            "grid_gap": null,
            "max_width": null,
            "order": null,
            "_view_module_version": "1.2.0",
            "grid_template_areas": null,
            "object_position": null,
            "object_fit": null,
            "grid_auto_columns": null,
            "margin": null,
            "display": null,
            "left": null
          }
        },
        "2261f83213624a5c9de20aba7563da98": {
          "model_module": "@jupyter-widgets/controls",
          "model_name": "ProgressStyleModel",
          "model_module_version": "1.5.0",
          "state": {
            "_view_name": "StyleView",
            "_model_name": "ProgressStyleModel",
            "description_width": "",
            "_view_module": "@jupyter-widgets/base",
            "_model_module_version": "1.5.0",
            "_view_count": null,
            "_view_module_version": "1.2.0",
            "bar_color": null,
            "_model_module": "@jupyter-widgets/controls"
          }
        },
        "bf3666834c564eaa806e2d1fba6af801": {
          "model_module": "@jupyter-widgets/base",
          "model_name": "LayoutModel",
          "model_module_version": "1.2.0",
          "state": {
            "_view_name": "LayoutView",
            "grid_template_rows": null,
            "right": null,
            "justify_content": null,
            "_view_module": "@jupyter-widgets/base",
            "overflow": null,
            "_model_module_version": "1.2.0",
            "_view_count": null,
            "flex_flow": null,
            "width": null,
            "min_width": null,
            "border": null,
            "align_items": null,
            "bottom": null,
            "_model_module": "@jupyter-widgets/base",
            "top": null,
            "grid_column": null,
            "overflow_y": null,
            "overflow_x": null,
            "grid_auto_flow": null,
            "grid_area": null,
            "grid_template_columns": null,
            "flex": null,
            "_model_name": "LayoutModel",
            "justify_items": null,
            "grid_row": null,
            "max_height": null,
            "align_content": null,
            "visibility": null,
            "align_self": null,
            "height": null,
            "min_height": null,
            "padding": null,
            "grid_auto_rows": null,
            "grid_gap": null,
            "max_width": null,
            "order": null,
            "_view_module_version": "1.2.0",
            "grid_template_areas": null,
            "object_position": null,
            "object_fit": null,
            "grid_auto_columns": null,
            "margin": null,
            "display": null,
            "left": null
          }
        },
        "eb9c49bed6f24a9997f443ec762f9219": {
          "model_module": "@jupyter-widgets/controls",
          "model_name": "DescriptionStyleModel",
          "model_module_version": "1.5.0",
          "state": {
            "_view_name": "StyleView",
            "_model_name": "DescriptionStyleModel",
            "description_width": "",
            "_view_module": "@jupyter-widgets/base",
            "_model_module_version": "1.5.0",
            "_view_count": null,
            "_view_module_version": "1.2.0",
            "_model_module": "@jupyter-widgets/controls"
          }
        },
        "fb46da2e52a7426698dba08966e92fe6": {
          "model_module": "@jupyter-widgets/base",
          "model_name": "LayoutModel",
          "model_module_version": "1.2.0",
          "state": {
            "_view_name": "LayoutView",
            "grid_template_rows": null,
            "right": null,
            "justify_content": null,
            "_view_module": "@jupyter-widgets/base",
            "overflow": null,
            "_model_module_version": "1.2.0",
            "_view_count": null,
            "flex_flow": null,
            "width": null,
            "min_width": null,
            "border": null,
            "align_items": null,
            "bottom": null,
            "_model_module": "@jupyter-widgets/base",
            "top": null,
            "grid_column": null,
            "overflow_y": null,
            "overflow_x": null,
            "grid_auto_flow": null,
            "grid_area": null,
            "grid_template_columns": null,
            "flex": null,
            "_model_name": "LayoutModel",
            "justify_items": null,
            "grid_row": null,
            "max_height": null,
            "align_content": null,
            "visibility": null,
            "align_self": null,
            "height": null,
            "min_height": null,
            "padding": null,
            "grid_auto_rows": null,
            "grid_gap": null,
            "max_width": null,
            "order": null,
            "_view_module_version": "1.2.0",
            "grid_template_areas": null,
            "object_position": null,
            "object_fit": null,
            "grid_auto_columns": null,
            "margin": null,
            "display": null,
            "left": null
          }
        },
        "f3a001a27da94312a6cf08f86ef20b2b": {
          "model_module": "@jupyter-widgets/controls",
          "model_name": "HBoxModel",
          "model_module_version": "1.5.0",
          "state": {
            "_view_name": "HBoxView",
            "_dom_classes": [],
            "_model_name": "HBoxModel",
            "_view_module": "@jupyter-widgets/controls",
            "_model_module_version": "1.5.0",
            "_view_count": null,
            "_view_module_version": "1.5.0",
            "box_style": "",
            "layout": "IPY_MODEL_38eea4288e574e28b7e1cfe09a677920",
            "_model_module": "@jupyter-widgets/controls",
            "children": [
              "IPY_MODEL_7a8d9d8bc4384f62a862b4ba5b33d4b7",
              "IPY_MODEL_61b6c128912f4afc99b108e2fddc4bff",
              "IPY_MODEL_92108b84632f4bfc9d9c435ae04f958f"
            ]
          }
        },
        "38eea4288e574e28b7e1cfe09a677920": {
          "model_module": "@jupyter-widgets/base",
          "model_name": "LayoutModel",
          "model_module_version": "1.2.0",
          "state": {
            "_view_name": "LayoutView",
            "grid_template_rows": null,
            "right": null,
            "justify_content": null,
            "_view_module": "@jupyter-widgets/base",
            "overflow": null,
            "_model_module_version": "1.2.0",
            "_view_count": null,
            "flex_flow": null,
            "width": null,
            "min_width": null,
            "border": null,
            "align_items": null,
            "bottom": null,
            "_model_module": "@jupyter-widgets/base",
            "top": null,
            "grid_column": null,
            "overflow_y": null,
            "overflow_x": null,
            "grid_auto_flow": null,
            "grid_area": null,
            "grid_template_columns": null,
            "flex": null,
            "_model_name": "LayoutModel",
            "justify_items": null,
            "grid_row": null,
            "max_height": null,
            "align_content": null,
            "visibility": null,
            "align_self": null,
            "height": null,
            "min_height": null,
            "padding": null,
            "grid_auto_rows": null,
            "grid_gap": null,
            "max_width": null,
            "order": null,
            "_view_module_version": "1.2.0",
            "grid_template_areas": null,
            "object_position": null,
            "object_fit": null,
            "grid_auto_columns": null,
            "margin": null,
            "display": null,
            "left": null
          }
        },
        "7a8d9d8bc4384f62a862b4ba5b33d4b7": {
          "model_module": "@jupyter-widgets/controls",
          "model_name": "HTMLModel",
          "model_module_version": "1.5.0",
          "state": {
            "_view_name": "HTMLView",
            "style": "IPY_MODEL_906683c326ca442da6ead94c1d12ee5e",
            "_dom_classes": [],
            "description": "",
            "_model_name": "HTMLModel",
            "placeholder": "​",
            "_view_module": "@jupyter-widgets/controls",
            "_model_module_version": "1.5.0",
            "value": "Downloading: 100%",
            "_view_count": null,
            "_view_module_version": "1.5.0",
            "description_tooltip": null,
            "_model_module": "@jupyter-widgets/controls",
            "layout": "IPY_MODEL_c5def11055824f4ba615a06eb538bad9"
          }
        },
        "61b6c128912f4afc99b108e2fddc4bff": {
          "model_module": "@jupyter-widgets/controls",
          "model_name": "FloatProgressModel",
          "model_module_version": "1.5.0",
          "state": {
            "_view_name": "ProgressView",
            "style": "IPY_MODEL_68c43ba76b1d44cda5ca8b61fdf95f84",
            "_dom_classes": [],
            "description": "",
            "_model_name": "FloatProgressModel",
            "bar_style": "success",
            "max": 28,
            "_view_module": "@jupyter-widgets/controls",
            "_model_module_version": "1.5.0",
            "value": 28,
            "_view_count": null,
            "_view_module_version": "1.5.0",
            "orientation": "horizontal",
            "min": 0,
            "description_tooltip": null,
            "_model_module": "@jupyter-widgets/controls",
            "layout": "IPY_MODEL_05a4ba39f9ec4ec0b6f90dddab013f8a"
          }
        },
        "92108b84632f4bfc9d9c435ae04f958f": {
          "model_module": "@jupyter-widgets/controls",
          "model_name": "HTMLModel",
          "model_module_version": "1.5.0",
          "state": {
            "_view_name": "HTMLView",
            "style": "IPY_MODEL_b0c0730dfbe14c3c83a60e9a73012fb7",
            "_dom_classes": [],
            "description": "",
            "_model_name": "HTMLModel",
            "placeholder": "​",
            "_view_module": "@jupyter-widgets/controls",
            "_model_module_version": "1.5.0",
            "value": " 28.0/28.0 [00:00&lt;00:00, 743B/s]",
            "_view_count": null,
            "_view_module_version": "1.5.0",
            "description_tooltip": null,
            "_model_module": "@jupyter-widgets/controls",
            "layout": "IPY_MODEL_4394d8ec01384291821e0cac828f0566"
          }
        },
        "906683c326ca442da6ead94c1d12ee5e": {
          "model_module": "@jupyter-widgets/controls",
          "model_name": "DescriptionStyleModel",
          "model_module_version": "1.5.0",
          "state": {
            "_view_name": "StyleView",
            "_model_name": "DescriptionStyleModel",
            "description_width": "",
            "_view_module": "@jupyter-widgets/base",
            "_model_module_version": "1.5.0",
            "_view_count": null,
            "_view_module_version": "1.2.0",
            "_model_module": "@jupyter-widgets/controls"
          }
        },
        "c5def11055824f4ba615a06eb538bad9": {
          "model_module": "@jupyter-widgets/base",
          "model_name": "LayoutModel",
          "model_module_version": "1.2.0",
          "state": {
            "_view_name": "LayoutView",
            "grid_template_rows": null,
            "right": null,
            "justify_content": null,
            "_view_module": "@jupyter-widgets/base",
            "overflow": null,
            "_model_module_version": "1.2.0",
            "_view_count": null,
            "flex_flow": null,
            "width": null,
            "min_width": null,
            "border": null,
            "align_items": null,
            "bottom": null,
            "_model_module": "@jupyter-widgets/base",
            "top": null,
            "grid_column": null,
            "overflow_y": null,
            "overflow_x": null,
            "grid_auto_flow": null,
            "grid_area": null,
            "grid_template_columns": null,
            "flex": null,
            "_model_name": "LayoutModel",
            "justify_items": null,
            "grid_row": null,
            "max_height": null,
            "align_content": null,
            "visibility": null,
            "align_self": null,
            "height": null,
            "min_height": null,
            "padding": null,
            "grid_auto_rows": null,
            "grid_gap": null,
            "max_width": null,
            "order": null,
            "_view_module_version": "1.2.0",
            "grid_template_areas": null,
            "object_position": null,
            "object_fit": null,
            "grid_auto_columns": null,
            "margin": null,
            "display": null,
            "left": null
          }
        },
        "68c43ba76b1d44cda5ca8b61fdf95f84": {
          "model_module": "@jupyter-widgets/controls",
          "model_name": "ProgressStyleModel",
          "model_module_version": "1.5.0",
          "state": {
            "_view_name": "StyleView",
            "_model_name": "ProgressStyleModel",
            "description_width": "",
            "_view_module": "@jupyter-widgets/base",
            "_model_module_version": "1.5.0",
            "_view_count": null,
            "_view_module_version": "1.2.0",
            "bar_color": null,
            "_model_module": "@jupyter-widgets/controls"
          }
        },
        "05a4ba39f9ec4ec0b6f90dddab013f8a": {
          "model_module": "@jupyter-widgets/base",
          "model_name": "LayoutModel",
          "model_module_version": "1.2.0",
          "state": {
            "_view_name": "LayoutView",
            "grid_template_rows": null,
            "right": null,
            "justify_content": null,
            "_view_module": "@jupyter-widgets/base",
            "overflow": null,
            "_model_module_version": "1.2.0",
            "_view_count": null,
            "flex_flow": null,
            "width": null,
            "min_width": null,
            "border": null,
            "align_items": null,
            "bottom": null,
            "_model_module": "@jupyter-widgets/base",
            "top": null,
            "grid_column": null,
            "overflow_y": null,
            "overflow_x": null,
            "grid_auto_flow": null,
            "grid_area": null,
            "grid_template_columns": null,
            "flex": null,
            "_model_name": "LayoutModel",
            "justify_items": null,
            "grid_row": null,
            "max_height": null,
            "align_content": null,
            "visibility": null,
            "align_self": null,
            "height": null,
            "min_height": null,
            "padding": null,
            "grid_auto_rows": null,
            "grid_gap": null,
            "max_width": null,
            "order": null,
            "_view_module_version": "1.2.0",
            "grid_template_areas": null,
            "object_position": null,
            "object_fit": null,
            "grid_auto_columns": null,
            "margin": null,
            "display": null,
            "left": null
          }
        },
        "b0c0730dfbe14c3c83a60e9a73012fb7": {
          "model_module": "@jupyter-widgets/controls",
          "model_name": "DescriptionStyleModel",
          "model_module_version": "1.5.0",
          "state": {
            "_view_name": "StyleView",
            "_model_name": "DescriptionStyleModel",
            "description_width": "",
            "_view_module": "@jupyter-widgets/base",
            "_model_module_version": "1.5.0",
            "_view_count": null,
            "_view_module_version": "1.2.0",
            "_model_module": "@jupyter-widgets/controls"
          }
        },
        "4394d8ec01384291821e0cac828f0566": {
          "model_module": "@jupyter-widgets/base",
          "model_name": "LayoutModel",
          "model_module_version": "1.2.0",
          "state": {
            "_view_name": "LayoutView",
            "grid_template_rows": null,
            "right": null,
            "justify_content": null,
            "_view_module": "@jupyter-widgets/base",
            "overflow": null,
            "_model_module_version": "1.2.0",
            "_view_count": null,
            "flex_flow": null,
            "width": null,
            "min_width": null,
            "border": null,
            "align_items": null,
            "bottom": null,
            "_model_module": "@jupyter-widgets/base",
            "top": null,
            "grid_column": null,
            "overflow_y": null,
            "overflow_x": null,
            "grid_auto_flow": null,
            "grid_area": null,
            "grid_template_columns": null,
            "flex": null,
            "_model_name": "LayoutModel",
            "justify_items": null,
            "grid_row": null,
            "max_height": null,
            "align_content": null,
            "visibility": null,
            "align_self": null,
            "height": null,
            "min_height": null,
            "padding": null,
            "grid_auto_rows": null,
            "grid_gap": null,
            "max_width": null,
            "order": null,
            "_view_module_version": "1.2.0",
            "grid_template_areas": null,
            "object_position": null,
            "object_fit": null,
            "grid_auto_columns": null,
            "margin": null,
            "display": null,
            "left": null
          }
        },
        "f731198a349f4a858ebe3c111ca09735": {
          "model_module": "@jupyter-widgets/controls",
          "model_name": "HBoxModel",
          "model_module_version": "1.5.0",
          "state": {
            "_view_name": "HBoxView",
            "_dom_classes": [],
            "_model_name": "HBoxModel",
            "_view_module": "@jupyter-widgets/controls",
            "_model_module_version": "1.5.0",
            "_view_count": null,
            "_view_module_version": "1.5.0",
            "box_style": "",
            "layout": "IPY_MODEL_6c98d2f45e464d37ab0cf6c2c546a451",
            "_model_module": "@jupyter-widgets/controls",
            "children": [
              "IPY_MODEL_96d3d8ea8ff341cd9319300dd0c66bee",
              "IPY_MODEL_a31312e867b24937b0708ed89ec5e5c4",
              "IPY_MODEL_0234c17510ff402b87403ea5fc0f7bc2"
            ]
          }
        },
        "6c98d2f45e464d37ab0cf6c2c546a451": {
          "model_module": "@jupyter-widgets/base",
          "model_name": "LayoutModel",
          "model_module_version": "1.2.0",
          "state": {
            "_view_name": "LayoutView",
            "grid_template_rows": null,
            "right": null,
            "justify_content": null,
            "_view_module": "@jupyter-widgets/base",
            "overflow": null,
            "_model_module_version": "1.2.0",
            "_view_count": null,
            "flex_flow": null,
            "width": null,
            "min_width": null,
            "border": null,
            "align_items": null,
            "bottom": null,
            "_model_module": "@jupyter-widgets/base",
            "top": null,
            "grid_column": null,
            "overflow_y": null,
            "overflow_x": null,
            "grid_auto_flow": null,
            "grid_area": null,
            "grid_template_columns": null,
            "flex": null,
            "_model_name": "LayoutModel",
            "justify_items": null,
            "grid_row": null,
            "max_height": null,
            "align_content": null,
            "visibility": null,
            "align_self": null,
            "height": null,
            "min_height": null,
            "padding": null,
            "grid_auto_rows": null,
            "grid_gap": null,
            "max_width": null,
            "order": null,
            "_view_module_version": "1.2.0",
            "grid_template_areas": null,
            "object_position": null,
            "object_fit": null,
            "grid_auto_columns": null,
            "margin": null,
            "display": null,
            "left": null
          }
        },
        "96d3d8ea8ff341cd9319300dd0c66bee": {
          "model_module": "@jupyter-widgets/controls",
          "model_name": "HTMLModel",
          "model_module_version": "1.5.0",
          "state": {
            "_view_name": "HTMLView",
            "style": "IPY_MODEL_1d69fecc745b445d8d2dc8d33afbd011",
            "_dom_classes": [],
            "description": "",
            "_model_name": "HTMLModel",
            "placeholder": "​",
            "_view_module": "@jupyter-widgets/controls",
            "_model_module_version": "1.5.0",
            "value": "Downloading: 100%",
            "_view_count": null,
            "_view_module_version": "1.5.0",
            "description_tooltip": null,
            "_model_module": "@jupyter-widgets/controls",
            "layout": "IPY_MODEL_987ba7e2175f4bfd91f30b475de51bb9"
          }
        },
        "a31312e867b24937b0708ed89ec5e5c4": {
          "model_module": "@jupyter-widgets/controls",
          "model_name": "FloatProgressModel",
          "model_module_version": "1.5.0",
          "state": {
            "_view_name": "ProgressView",
            "style": "IPY_MODEL_d4573ebf36c84f798c831c1ad619542e",
            "_dom_classes": [],
            "description": "",
            "_model_name": "FloatProgressModel",
            "bar_style": "success",
            "max": 570,
            "_view_module": "@jupyter-widgets/controls",
            "_model_module_version": "1.5.0",
            "value": 570,
            "_view_count": null,
            "_view_module_version": "1.5.0",
            "orientation": "horizontal",
            "min": 0,
            "description_tooltip": null,
            "_model_module": "@jupyter-widgets/controls",
            "layout": "IPY_MODEL_5416c1caa5574d6b8ddf0fbebef2d7d5"
          }
        },
        "0234c17510ff402b87403ea5fc0f7bc2": {
          "model_module": "@jupyter-widgets/controls",
          "model_name": "HTMLModel",
          "model_module_version": "1.5.0",
          "state": {
            "_view_name": "HTMLView",
            "style": "IPY_MODEL_219eb9b0ce1c4c0fb87556b2d8940d68",
            "_dom_classes": [],
            "description": "",
            "_model_name": "HTMLModel",
            "placeholder": "​",
            "_view_module": "@jupyter-widgets/controls",
            "_model_module_version": "1.5.0",
            "value": " 570/570 [00:00&lt;00:00, 13.2kB/s]",
            "_view_count": null,
            "_view_module_version": "1.5.0",
            "description_tooltip": null,
            "_model_module": "@jupyter-widgets/controls",
            "layout": "IPY_MODEL_c2a9444a5c7a46679562eb0dac8f75a7"
          }
        },
        "1d69fecc745b445d8d2dc8d33afbd011": {
          "model_module": "@jupyter-widgets/controls",
          "model_name": "DescriptionStyleModel",
          "model_module_version": "1.5.0",
          "state": {
            "_view_name": "StyleView",
            "_model_name": "DescriptionStyleModel",
            "description_width": "",
            "_view_module": "@jupyter-widgets/base",
            "_model_module_version": "1.5.0",
            "_view_count": null,
            "_view_module_version": "1.2.0",
            "_model_module": "@jupyter-widgets/controls"
          }
        },
        "987ba7e2175f4bfd91f30b475de51bb9": {
          "model_module": "@jupyter-widgets/base",
          "model_name": "LayoutModel",
          "model_module_version": "1.2.0",
          "state": {
            "_view_name": "LayoutView",
            "grid_template_rows": null,
            "right": null,
            "justify_content": null,
            "_view_module": "@jupyter-widgets/base",
            "overflow": null,
            "_model_module_version": "1.2.0",
            "_view_count": null,
            "flex_flow": null,
            "width": null,
            "min_width": null,
            "border": null,
            "align_items": null,
            "bottom": null,
            "_model_module": "@jupyter-widgets/base",
            "top": null,
            "grid_column": null,
            "overflow_y": null,
            "overflow_x": null,
            "grid_auto_flow": null,
            "grid_area": null,
            "grid_template_columns": null,
            "flex": null,
            "_model_name": "LayoutModel",
            "justify_items": null,
            "grid_row": null,
            "max_height": null,
            "align_content": null,
            "visibility": null,
            "align_self": null,
            "height": null,
            "min_height": null,
            "padding": null,
            "grid_auto_rows": null,
            "grid_gap": null,
            "max_width": null,
            "order": null,
            "_view_module_version": "1.2.0",
            "grid_template_areas": null,
            "object_position": null,
            "object_fit": null,
            "grid_auto_columns": null,
            "margin": null,
            "display": null,
            "left": null
          }
        },
        "d4573ebf36c84f798c831c1ad619542e": {
          "model_module": "@jupyter-widgets/controls",
          "model_name": "ProgressStyleModel",
          "model_module_version": "1.5.0",
          "state": {
            "_view_name": "StyleView",
            "_model_name": "ProgressStyleModel",
            "description_width": "",
            "_view_module": "@jupyter-widgets/base",
            "_model_module_version": "1.5.0",
            "_view_count": null,
            "_view_module_version": "1.2.0",
            "bar_color": null,
            "_model_module": "@jupyter-widgets/controls"
          }
        },
        "5416c1caa5574d6b8ddf0fbebef2d7d5": {
          "model_module": "@jupyter-widgets/base",
          "model_name": "LayoutModel",
          "model_module_version": "1.2.0",
          "state": {
            "_view_name": "LayoutView",
            "grid_template_rows": null,
            "right": null,
            "justify_content": null,
            "_view_module": "@jupyter-widgets/base",
            "overflow": null,
            "_model_module_version": "1.2.0",
            "_view_count": null,
            "flex_flow": null,
            "width": null,
            "min_width": null,
            "border": null,
            "align_items": null,
            "bottom": null,
            "_model_module": "@jupyter-widgets/base",
            "top": null,
            "grid_column": null,
            "overflow_y": null,
            "overflow_x": null,
            "grid_auto_flow": null,
            "grid_area": null,
            "grid_template_columns": null,
            "flex": null,
            "_model_name": "LayoutModel",
            "justify_items": null,
            "grid_row": null,
            "max_height": null,
            "align_content": null,
            "visibility": null,
            "align_self": null,
            "height": null,
            "min_height": null,
            "padding": null,
            "grid_auto_rows": null,
            "grid_gap": null,
            "max_width": null,
            "order": null,
            "_view_module_version": "1.2.0",
            "grid_template_areas": null,
            "object_position": null,
            "object_fit": null,
            "grid_auto_columns": null,
            "margin": null,
            "display": null,
            "left": null
          }
        },
        "219eb9b0ce1c4c0fb87556b2d8940d68": {
          "model_module": "@jupyter-widgets/controls",
          "model_name": "DescriptionStyleModel",
          "model_module_version": "1.5.0",
          "state": {
            "_view_name": "StyleView",
            "_model_name": "DescriptionStyleModel",
            "description_width": "",
            "_view_module": "@jupyter-widgets/base",
            "_model_module_version": "1.5.0",
            "_view_count": null,
            "_view_module_version": "1.2.0",
            "_model_module": "@jupyter-widgets/controls"
          }
        },
        "c2a9444a5c7a46679562eb0dac8f75a7": {
          "model_module": "@jupyter-widgets/base",
          "model_name": "LayoutModel",
          "model_module_version": "1.2.0",
          "state": {
            "_view_name": "LayoutView",
            "grid_template_rows": null,
            "right": null,
            "justify_content": null,
            "_view_module": "@jupyter-widgets/base",
            "overflow": null,
            "_model_module_version": "1.2.0",
            "_view_count": null,
            "flex_flow": null,
            "width": null,
            "min_width": null,
            "border": null,
            "align_items": null,
            "bottom": null,
            "_model_module": "@jupyter-widgets/base",
            "top": null,
            "grid_column": null,
            "overflow_y": null,
            "overflow_x": null,
            "grid_auto_flow": null,
            "grid_area": null,
            "grid_template_columns": null,
            "flex": null,
            "_model_name": "LayoutModel",
            "justify_items": null,
            "grid_row": null,
            "max_height": null,
            "align_content": null,
            "visibility": null,
            "align_self": null,
            "height": null,
            "min_height": null,
            "padding": null,
            "grid_auto_rows": null,
            "grid_gap": null,
            "max_width": null,
            "order": null,
            "_view_module_version": "1.2.0",
            "grid_template_areas": null,
            "object_position": null,
            "object_fit": null,
            "grid_auto_columns": null,
            "margin": null,
            "display": null,
            "left": null
          }
        },
        "e5888fbf386b46959f434193407c7f3e": {
          "model_module": "@jupyter-widgets/controls",
          "model_name": "HBoxModel",
          "model_module_version": "1.5.0",
          "state": {
            "_view_name": "HBoxView",
            "_dom_classes": [],
            "_model_name": "HBoxModel",
            "_view_module": "@jupyter-widgets/controls",
            "_model_module_version": "1.5.0",
            "_view_count": null,
            "_view_module_version": "1.5.0",
            "box_style": "",
            "layout": "IPY_MODEL_2302b92229624276b3d2f8e6911a74fd",
            "_model_module": "@jupyter-widgets/controls",
            "children": [
              "IPY_MODEL_9eb59f77aef3472e8714ba3d61a0ba62",
              "IPY_MODEL_855d580ca8b6460dada3f14c36d45d8c",
              "IPY_MODEL_2625e5defe0d4ae98e2d92d1ed5204a3"
            ]
          }
        },
        "2302b92229624276b3d2f8e6911a74fd": {
          "model_module": "@jupyter-widgets/base",
          "model_name": "LayoutModel",
          "model_module_version": "1.2.0",
          "state": {
            "_view_name": "LayoutView",
            "grid_template_rows": null,
            "right": null,
            "justify_content": null,
            "_view_module": "@jupyter-widgets/base",
            "overflow": null,
            "_model_module_version": "1.2.0",
            "_view_count": null,
            "flex_flow": null,
            "width": null,
            "min_width": null,
            "border": null,
            "align_items": null,
            "bottom": null,
            "_model_module": "@jupyter-widgets/base",
            "top": null,
            "grid_column": null,
            "overflow_y": null,
            "overflow_x": null,
            "grid_auto_flow": null,
            "grid_area": null,
            "grid_template_columns": null,
            "flex": null,
            "_model_name": "LayoutModel",
            "justify_items": null,
            "grid_row": null,
            "max_height": null,
            "align_content": null,
            "visibility": null,
            "align_self": null,
            "height": null,
            "min_height": null,
            "padding": null,
            "grid_auto_rows": null,
            "grid_gap": null,
            "max_width": null,
            "order": null,
            "_view_module_version": "1.2.0",
            "grid_template_areas": null,
            "object_position": null,
            "object_fit": null,
            "grid_auto_columns": null,
            "margin": null,
            "display": null,
            "left": null
          }
        },
        "9eb59f77aef3472e8714ba3d61a0ba62": {
          "model_module": "@jupyter-widgets/controls",
          "model_name": "HTMLModel",
          "model_module_version": "1.5.0",
          "state": {
            "_view_name": "HTMLView",
            "style": "IPY_MODEL_131f225a2b2f4c7f987f591c4ddb3514",
            "_dom_classes": [],
            "description": "",
            "_model_name": "HTMLModel",
            "placeholder": "​",
            "_view_module": "@jupyter-widgets/controls",
            "_model_module_version": "1.5.0",
            "value": "Downloading: 100%",
            "_view_count": null,
            "_view_module_version": "1.5.0",
            "description_tooltip": null,
            "_model_module": "@jupyter-widgets/controls",
            "layout": "IPY_MODEL_57855adea6e9458db0e1a8a36652e316"
          }
        },
        "855d580ca8b6460dada3f14c36d45d8c": {
          "model_module": "@jupyter-widgets/controls",
          "model_name": "FloatProgressModel",
          "model_module_version": "1.5.0",
          "state": {
            "_view_name": "ProgressView",
            "style": "IPY_MODEL_e0d13755321a48f19cda537f19e5b554",
            "_dom_classes": [],
            "description": "",
            "_model_name": "FloatProgressModel",
            "bar_style": "success",
            "max": 440473133,
            "_view_module": "@jupyter-widgets/controls",
            "_model_module_version": "1.5.0",
            "value": 440473133,
            "_view_count": null,
            "_view_module_version": "1.5.0",
            "orientation": "horizontal",
            "min": 0,
            "description_tooltip": null,
            "_model_module": "@jupyter-widgets/controls",
            "layout": "IPY_MODEL_c7f5a5ddfd0046d2bca3e4c2466286bd"
          }
        },
        "2625e5defe0d4ae98e2d92d1ed5204a3": {
          "model_module": "@jupyter-widgets/controls",
          "model_name": "HTMLModel",
          "model_module_version": "1.5.0",
          "state": {
            "_view_name": "HTMLView",
            "style": "IPY_MODEL_15f12a494f51403196131c8ec59d0ac3",
            "_dom_classes": [],
            "description": "",
            "_model_name": "HTMLModel",
            "placeholder": "​",
            "_view_module": "@jupyter-widgets/controls",
            "_model_module_version": "1.5.0",
            "value": " 420M/420M [00:14&lt;00:00, 31.6MB/s]",
            "_view_count": null,
            "_view_module_version": "1.5.0",
            "description_tooltip": null,
            "_model_module": "@jupyter-widgets/controls",
            "layout": "IPY_MODEL_86f6b6b3b8cb47b0b4972565063aac06"
          }
        },
        "131f225a2b2f4c7f987f591c4ddb3514": {
          "model_module": "@jupyter-widgets/controls",
          "model_name": "DescriptionStyleModel",
          "model_module_version": "1.5.0",
          "state": {
            "_view_name": "StyleView",
            "_model_name": "DescriptionStyleModel",
            "description_width": "",
            "_view_module": "@jupyter-widgets/base",
            "_model_module_version": "1.5.0",
            "_view_count": null,
            "_view_module_version": "1.2.0",
            "_model_module": "@jupyter-widgets/controls"
          }
        },
        "57855adea6e9458db0e1a8a36652e316": {
          "model_module": "@jupyter-widgets/base",
          "model_name": "LayoutModel",
          "model_module_version": "1.2.0",
          "state": {
            "_view_name": "LayoutView",
            "grid_template_rows": null,
            "right": null,
            "justify_content": null,
            "_view_module": "@jupyter-widgets/base",
            "overflow": null,
            "_model_module_version": "1.2.0",
            "_view_count": null,
            "flex_flow": null,
            "width": null,
            "min_width": null,
            "border": null,
            "align_items": null,
            "bottom": null,
            "_model_module": "@jupyter-widgets/base",
            "top": null,
            "grid_column": null,
            "overflow_y": null,
            "overflow_x": null,
            "grid_auto_flow": null,
            "grid_area": null,
            "grid_template_columns": null,
            "flex": null,
            "_model_name": "LayoutModel",
            "justify_items": null,
            "grid_row": null,
            "max_height": null,
            "align_content": null,
            "visibility": null,
            "align_self": null,
            "height": null,
            "min_height": null,
            "padding": null,
            "grid_auto_rows": null,
            "grid_gap": null,
            "max_width": null,
            "order": null,
            "_view_module_version": "1.2.0",
            "grid_template_areas": null,
            "object_position": null,
            "object_fit": null,
            "grid_auto_columns": null,
            "margin": null,
            "display": null,
            "left": null
          }
        },
        "e0d13755321a48f19cda537f19e5b554": {
          "model_module": "@jupyter-widgets/controls",
          "model_name": "ProgressStyleModel",
          "model_module_version": "1.5.0",
          "state": {
            "_view_name": "StyleView",
            "_model_name": "ProgressStyleModel",
            "description_width": "",
            "_view_module": "@jupyter-widgets/base",
            "_model_module_version": "1.5.0",
            "_view_count": null,
            "_view_module_version": "1.2.0",
            "bar_color": null,
            "_model_module": "@jupyter-widgets/controls"
          }
        },
        "c7f5a5ddfd0046d2bca3e4c2466286bd": {
          "model_module": "@jupyter-widgets/base",
          "model_name": "LayoutModel",
          "model_module_version": "1.2.0",
          "state": {
            "_view_name": "LayoutView",
            "grid_template_rows": null,
            "right": null,
            "justify_content": null,
            "_view_module": "@jupyter-widgets/base",
            "overflow": null,
            "_model_module_version": "1.2.0",
            "_view_count": null,
            "flex_flow": null,
            "width": null,
            "min_width": null,
            "border": null,
            "align_items": null,
            "bottom": null,
            "_model_module": "@jupyter-widgets/base",
            "top": null,
            "grid_column": null,
            "overflow_y": null,
            "overflow_x": null,
            "grid_auto_flow": null,
            "grid_area": null,
            "grid_template_columns": null,
            "flex": null,
            "_model_name": "LayoutModel",
            "justify_items": null,
            "grid_row": null,
            "max_height": null,
            "align_content": null,
            "visibility": null,
            "align_self": null,
            "height": null,
            "min_height": null,
            "padding": null,
            "grid_auto_rows": null,
            "grid_gap": null,
            "max_width": null,
            "order": null,
            "_view_module_version": "1.2.0",
            "grid_template_areas": null,
            "object_position": null,
            "object_fit": null,
            "grid_auto_columns": null,
            "margin": null,
            "display": null,
            "left": null
          }
        },
        "15f12a494f51403196131c8ec59d0ac3": {
          "model_module": "@jupyter-widgets/controls",
          "model_name": "DescriptionStyleModel",
          "model_module_version": "1.5.0",
          "state": {
            "_view_name": "StyleView",
            "_model_name": "DescriptionStyleModel",
            "description_width": "",
            "_view_module": "@jupyter-widgets/base",
            "_model_module_version": "1.5.0",
            "_view_count": null,
            "_view_module_version": "1.2.0",
            "_model_module": "@jupyter-widgets/controls"
          }
        },
        "86f6b6b3b8cb47b0b4972565063aac06": {
          "model_module": "@jupyter-widgets/base",
          "model_name": "LayoutModel",
          "model_module_version": "1.2.0",
          "state": {
            "_view_name": "LayoutView",
            "grid_template_rows": null,
            "right": null,
            "justify_content": null,
            "_view_module": "@jupyter-widgets/base",
            "overflow": null,
            "_model_module_version": "1.2.0",
            "_view_count": null,
            "flex_flow": null,
            "width": null,
            "min_width": null,
            "border": null,
            "align_items": null,
            "bottom": null,
            "_model_module": "@jupyter-widgets/base",
            "top": null,
            "grid_column": null,
            "overflow_y": null,
            "overflow_x": null,
            "grid_auto_flow": null,
            "grid_area": null,
            "grid_template_columns": null,
            "flex": null,
            "_model_name": "LayoutModel",
            "justify_items": null,
            "grid_row": null,
            "max_height": null,
            "align_content": null,
            "visibility": null,
            "align_self": null,
            "height": null,
            "min_height": null,
            "padding": null,
            "grid_auto_rows": null,
            "grid_gap": null,
            "max_width": null,
            "order": null,
            "_view_module_version": "1.2.0",
            "grid_template_areas": null,
            "object_position": null,
            "object_fit": null,
            "grid_auto_columns": null,
            "margin": null,
            "display": null,
            "left": null
          }
        }
      }
    }
  },
  "cells": [
    {
      "cell_type": "code",
      "metadata": {
        "id": "zpZYUfT96GqK",
        "colab": {
          "base_uri": "https://localhost:8080/"
        },
        "outputId": "98564fae-e647-425d-9d1a-006fec2d17fe"
      },
      "source": [
        "!pip install transformers\n",
        "!pip install profanity-filter"
      ],
      "execution_count": 1,
      "outputs": [
        {
          "output_type": "stream",
          "name": "stdout",
          "text": [
            "Collecting transformers\n",
            "  Downloading transformers-4.12.5-py3-none-any.whl (3.1 MB)\n",
            "\u001b[K     |████████████████████████████████| 3.1 MB 5.4 MB/s \n",
            "\u001b[?25hRequirement already satisfied: regex!=2019.12.17 in /usr/local/lib/python3.7/dist-packages (from transformers) (2019.12.20)\n",
            "Requirement already satisfied: requests in /usr/local/lib/python3.7/dist-packages (from transformers) (2.23.0)\n",
            "Requirement already satisfied: tqdm>=4.27 in /usr/local/lib/python3.7/dist-packages (from transformers) (4.62.3)\n",
            "Requirement already satisfied: filelock in /usr/local/lib/python3.7/dist-packages (from transformers) (3.4.0)\n",
            "Requirement already satisfied: numpy>=1.17 in /usr/local/lib/python3.7/dist-packages (from transformers) (1.19.5)\n",
            "Collecting sacremoses\n",
            "  Downloading sacremoses-0.0.46-py3-none-any.whl (895 kB)\n",
            "\u001b[K     |████████████████████████████████| 895 kB 30.7 MB/s \n",
            "\u001b[?25hRequirement already satisfied: importlib-metadata in /usr/local/lib/python3.7/dist-packages (from transformers) (4.8.2)\n",
            "Collecting tokenizers<0.11,>=0.10.1\n",
            "  Downloading tokenizers-0.10.3-cp37-cp37m-manylinux_2_5_x86_64.manylinux1_x86_64.manylinux_2_12_x86_64.manylinux2010_x86_64.whl (3.3 MB)\n",
            "\u001b[K     |████████████████████████████████| 3.3 MB 33.8 MB/s \n",
            "\u001b[?25hCollecting huggingface-hub<1.0,>=0.1.0\n",
            "  Downloading huggingface_hub-0.2.1-py3-none-any.whl (61 kB)\n",
            "\u001b[K     |████████████████████████████████| 61 kB 486 kB/s \n",
            "\u001b[?25hRequirement already satisfied: packaging>=20.0 in /usr/local/lib/python3.7/dist-packages (from transformers) (21.3)\n",
            "Collecting pyyaml>=5.1\n",
            "  Downloading PyYAML-6.0-cp37-cp37m-manylinux_2_5_x86_64.manylinux1_x86_64.manylinux_2_12_x86_64.manylinux2010_x86_64.whl (596 kB)\n",
            "\u001b[K     |████████████████████████████████| 596 kB 46.3 MB/s \n",
            "\u001b[?25hRequirement already satisfied: typing-extensions>=3.7.4.3 in /usr/local/lib/python3.7/dist-packages (from huggingface-hub<1.0,>=0.1.0->transformers) (3.10.0.2)\n",
            "Requirement already satisfied: pyparsing!=3.0.5,>=2.0.2 in /usr/local/lib/python3.7/dist-packages (from packaging>=20.0->transformers) (3.0.6)\n",
            "Requirement already satisfied: zipp>=0.5 in /usr/local/lib/python3.7/dist-packages (from importlib-metadata->transformers) (3.6.0)\n",
            "Requirement already satisfied: idna<3,>=2.5 in /usr/local/lib/python3.7/dist-packages (from requests->transformers) (2.10)\n",
            "Requirement already satisfied: certifi>=2017.4.17 in /usr/local/lib/python3.7/dist-packages (from requests->transformers) (2021.10.8)\n",
            "Requirement already satisfied: chardet<4,>=3.0.2 in /usr/local/lib/python3.7/dist-packages (from requests->transformers) (3.0.4)\n",
            "Requirement already satisfied: urllib3!=1.25.0,!=1.25.1,<1.26,>=1.21.1 in /usr/local/lib/python3.7/dist-packages (from requests->transformers) (1.24.3)\n",
            "Requirement already satisfied: click in /usr/local/lib/python3.7/dist-packages (from sacremoses->transformers) (7.1.2)\n",
            "Requirement already satisfied: six in /usr/local/lib/python3.7/dist-packages (from sacremoses->transformers) (1.15.0)\n",
            "Requirement already satisfied: joblib in /usr/local/lib/python3.7/dist-packages (from sacremoses->transformers) (1.1.0)\n",
            "Installing collected packages: pyyaml, tokenizers, sacremoses, huggingface-hub, transformers\n",
            "  Attempting uninstall: pyyaml\n",
            "    Found existing installation: PyYAML 3.13\n",
            "    Uninstalling PyYAML-3.13:\n",
            "      Successfully uninstalled PyYAML-3.13\n",
            "Successfully installed huggingface-hub-0.2.1 pyyaml-6.0 sacremoses-0.0.46 tokenizers-0.10.3 transformers-4.12.5\n",
            "Collecting profanity-filter\n",
            "  Downloading profanity_filter-1.3.3-py3-none-any.whl (45 kB)\n",
            "\u001b[K     |████████████████████████████████| 45 kB 1.9 MB/s \n",
            "\u001b[?25hCollecting ordered-set-stubs<0.2.0,>=0.1.3\n",
            "  Downloading ordered_set_stubs-0.1.3-py2.py3-none-any.whl (4.8 kB)\n",
            "Collecting poetry-version<0.2.0,>=0.1.3\n",
            "  Downloading poetry_version-0.1.5-py2.py3-none-any.whl (13 kB)\n",
            "Collecting ruamel.yaml<0.16.0,>=0.15.89\n",
            "  Downloading ruamel.yaml-0.15.100-cp37-cp37m-manylinux1_x86_64.whl (654 kB)\n",
            "\u001b[K     |████████████████████████████████| 654 kB 10.2 MB/s \n",
            "\u001b[?25hCollecting pydantic<2.0,>=1.3\n",
            "  Downloading pydantic-1.8.2-cp37-cp37m-manylinux2014_x86_64.whl (10.1 MB)\n",
            "\u001b[K     |████████████████████████████████| 10.1 MB 32.7 MB/s \n",
            "\u001b[?25hRequirement already satisfied: spacy<3.0,>=2.0 in /usr/local/lib/python3.7/dist-packages (from profanity-filter) (2.2.4)\n",
            "Collecting redis<4.0,>=3.2\n",
            "  Downloading redis-3.5.3-py2.py3-none-any.whl (72 kB)\n",
            "\u001b[K     |████████████████████████████████| 72 kB 520 kB/s \n",
            "\u001b[?25hCollecting ordered-set<4.0,>=3.0\n",
            "  Downloading ordered-set-3.1.1.tar.gz (10 kB)\n",
            "Requirement already satisfied: cached-property<2.0,>=1.5 in /usr/local/lib/python3.7/dist-packages (from profanity-filter) (1.5.2)\n",
            "Requirement already satisfied: more-itertools<9.0,>=8.0 in /usr/local/lib/python3.7/dist-packages (from profanity-filter) (8.12.0)\n",
            "Collecting tomlkit<0.6.0,>=0.4.6\n",
            "  Downloading tomlkit-0.5.11-py2.py3-none-any.whl (31 kB)\n",
            "Requirement already satisfied: typing-extensions>=3.7.4.3 in /usr/local/lib/python3.7/dist-packages (from pydantic<2.0,>=1.3->profanity-filter) (3.10.0.2)\n",
            "Requirement already satisfied: numpy>=1.15.0 in /usr/local/lib/python3.7/dist-packages (from spacy<3.0,>=2.0->profanity-filter) (1.19.5)\n",
            "Requirement already satisfied: cymem<2.1.0,>=2.0.2 in /usr/local/lib/python3.7/dist-packages (from spacy<3.0,>=2.0->profanity-filter) (2.0.6)\n",
            "Requirement already satisfied: srsly<1.1.0,>=1.0.2 in /usr/local/lib/python3.7/dist-packages (from spacy<3.0,>=2.0->profanity-filter) (1.0.5)\n",
            "Requirement already satisfied: thinc==7.4.0 in /usr/local/lib/python3.7/dist-packages (from spacy<3.0,>=2.0->profanity-filter) (7.4.0)\n",
            "Requirement already satisfied: catalogue<1.1.0,>=0.0.7 in /usr/local/lib/python3.7/dist-packages (from spacy<3.0,>=2.0->profanity-filter) (1.0.0)\n",
            "Requirement already satisfied: plac<1.2.0,>=0.9.6 in /usr/local/lib/python3.7/dist-packages (from spacy<3.0,>=2.0->profanity-filter) (1.1.3)\n",
            "Requirement already satisfied: blis<0.5.0,>=0.4.0 in /usr/local/lib/python3.7/dist-packages (from spacy<3.0,>=2.0->profanity-filter) (0.4.1)\n",
            "Requirement already satisfied: murmurhash<1.1.0,>=0.28.0 in /usr/local/lib/python3.7/dist-packages (from spacy<3.0,>=2.0->profanity-filter) (1.0.6)\n",
            "Requirement already satisfied: tqdm<5.0.0,>=4.38.0 in /usr/local/lib/python3.7/dist-packages (from spacy<3.0,>=2.0->profanity-filter) (4.62.3)\n",
            "Requirement already satisfied: preshed<3.1.0,>=3.0.2 in /usr/local/lib/python3.7/dist-packages (from spacy<3.0,>=2.0->profanity-filter) (3.0.6)\n",
            "Requirement already satisfied: wasabi<1.1.0,>=0.4.0 in /usr/local/lib/python3.7/dist-packages (from spacy<3.0,>=2.0->profanity-filter) (0.8.2)\n",
            "Requirement already satisfied: setuptools in /usr/local/lib/python3.7/dist-packages (from spacy<3.0,>=2.0->profanity-filter) (57.4.0)\n",
            "Requirement already satisfied: requests<3.0.0,>=2.13.0 in /usr/local/lib/python3.7/dist-packages (from spacy<3.0,>=2.0->profanity-filter) (2.23.0)\n",
            "Requirement already satisfied: importlib-metadata>=0.20 in /usr/local/lib/python3.7/dist-packages (from catalogue<1.1.0,>=0.0.7->spacy<3.0,>=2.0->profanity-filter) (4.8.2)\n",
            "Requirement already satisfied: zipp>=0.5 in /usr/local/lib/python3.7/dist-packages (from importlib-metadata>=0.20->catalogue<1.1.0,>=0.0.7->spacy<3.0,>=2.0->profanity-filter) (3.6.0)\n",
            "Requirement already satisfied: idna<3,>=2.5 in /usr/local/lib/python3.7/dist-packages (from requests<3.0.0,>=2.13.0->spacy<3.0,>=2.0->profanity-filter) (2.10)\n",
            "Requirement already satisfied: chardet<4,>=3.0.2 in /usr/local/lib/python3.7/dist-packages (from requests<3.0.0,>=2.13.0->spacy<3.0,>=2.0->profanity-filter) (3.0.4)\n",
            "Requirement already satisfied: certifi>=2017.4.17 in /usr/local/lib/python3.7/dist-packages (from requests<3.0.0,>=2.13.0->spacy<3.0,>=2.0->profanity-filter) (2021.10.8)\n",
            "Requirement already satisfied: urllib3!=1.25.0,!=1.25.1,<1.26,>=1.21.1 in /usr/local/lib/python3.7/dist-packages (from requests<3.0.0,>=2.13.0->spacy<3.0,>=2.0->profanity-filter) (1.24.3)\n",
            "Building wheels for collected packages: ordered-set\n",
            "  Building wheel for ordered-set (setup.py) ... \u001b[?25l\u001b[?25hdone\n",
            "  Created wheel for ordered-set: filename=ordered_set-3.1.1-py2.py3-none-any.whl size=7823 sha256=0cd511d0b8f6c8e855b02b97690c0453e4c7f5b8251c0436676a926b0fefebcd\n",
            "  Stored in directory: /root/.cache/pip/wheels/10/91/db/f8476865ccd2187467d2926d9f965673b4886175b6babca6b9\n",
            "Successfully built ordered-set\n",
            "Installing collected packages: tomlkit, ruamel.yaml, redis, pydantic, poetry-version, ordered-set-stubs, ordered-set, profanity-filter\n",
            "Successfully installed ordered-set-3.1.1 ordered-set-stubs-0.1.3 poetry-version-0.1.5 profanity-filter-1.3.3 pydantic-1.8.2 redis-3.5.3 ruamel.yaml-0.15.100 tomlkit-0.5.11\n"
          ]
        }
      ]
    },
    {
      "cell_type": "code",
      "metadata": {
        "id": "STgqfMaRHizh"
      },
      "source": [
        "import io\n",
        "import os\n",
        "import nltk \n",
        "import spacy\n",
        "import string\n",
        "import random\n",
        "import itertools\n",
        "\n",
        "import numpy as np\n",
        "import pandas as pd\n",
        "import torch as torch\n",
        "import seaborn as sns\n",
        "import tensorflow as tf\n",
        "import matplotlib.pyplot as plt\n",
        "\n",
        "from PIL import Image\n",
        "from io import FileIO\n",
        "from ast import literal_eval\n",
        "from google.colab import auth\n",
        "from nltk.corpus import stopwords\n",
        "from collections import defaultdict\n",
        "from googleapiclient.discovery import build\n",
        "from profanity_filter import ProfanityFilter\n",
        "from googleapiclient.http import MediaIoBaseDownload\n",
        "from nltk.tokenize import sent_tokenize, word_tokenize\n",
        "\n",
        "from wordcloud import WordCloud, STOPWORDS, ImageColorGenerator\n",
        "from transformers import  BertTokenizerFast, BertForTokenClassification, Trainer, TrainingArguments\n",
        "from sklearn.metrics import accuracy_score, classification_report, confusion_matrix,precision_recall_fscore_support\n",
        "\n",
        "%matplotlib inline"
      ],
      "execution_count": 2,
      "outputs": []
    },
    {
      "cell_type": "code",
      "metadata": {
        "id": "rwXQlB2-Bexm"
      },
      "source": [
        "# Set seed values for all python libraries\n",
        "def set_seed(seed_value):\n",
        "    random.seed(seed_value)\n",
        "    np.random.seed(seed_value)\n",
        "    torch.manual_seed(seed_value)\n",
        "    if torch.cuda.is_available():\n",
        "        torch.cuda.manual_seed_all(seed_value)"
      ],
      "execution_count": 3,
      "outputs": []
    },
    {
      "cell_type": "code",
      "metadata": {
        "id": "N4vLNvMBBini"
      },
      "source": [
        "# Set seed value of 42 for all python libraries\n",
        "set_seed(42)"
      ],
      "execution_count": 4,
      "outputs": []
    },
    {
      "cell_type": "markdown",
      "metadata": {
        "id": "UfEmXzRQtUaq"
      },
      "source": [
        "## **Mount Google Drive**"
      ]
    },
    {
      "cell_type": "code",
      "metadata": {
        "id": "56KWKx0WJFB9",
        "colab": {
          "base_uri": "https://localhost:8080/"
        },
        "outputId": "60e7d397-6ebb-4104-ac51-c0ba7f7855ba"
      },
      "source": [
        "# Mount the google drive for reading and writing input output files\n",
        "from google.colab import drive\n",
        "drive.mount('/content/drive')"
      ],
      "execution_count": 5,
      "outputs": [
        {
          "output_type": "stream",
          "name": "stdout",
          "text": [
            "Mounted at /content/drive\n"
          ]
        }
      ]
    },
    {
      "cell_type": "code",
      "metadata": {
        "id": "b6tR0BKRDWRJ"
      },
      "source": [
        "# Use GPU if available else use regular CPU\n",
        "device = torch.device('cuda' if torch.cuda.is_available() else 'cpu')"
      ],
      "execution_count": 6,
      "outputs": []
    },
    {
      "cell_type": "markdown",
      "metadata": {
        "id": "C5E48O3Cewcb"
      },
      "source": [
        "## **Download the train, trial and test data file**\n",
        "\n"
      ]
    },
    {
      "cell_type": "code",
      "metadata": {
        "id": "6iQ6-jMCsLcA"
      },
      "source": [
        "TSD_TEST_DATAPATH = \"https://github.com/ipavlopoulos/toxic_spans/raw/master/data/tsd_test.csv\" \n",
        "TSD_TRAIN_DATAPATH = \"https://github.com/ipavlopoulos/toxic_spans/raw/master/data/tsd_train.csv\"\n",
        "TSD_TRIAL_DATAPATH = \"https://github.com/ipavlopoulos/toxic_spans/raw/master/data/tsd_trial.csv\"\n",
        "\n",
        "tsd_train = pd.read_csv(TSD_TRAIN_DATAPATH, index_col=False)\n",
        "tsd_test = pd.read_csv(TSD_TEST_DATAPATH, index_col=False)\n",
        "tsd_trail = pd.read_csv(TSD_TRIAL_DATAPATH, index_col=False)"
      ],
      "execution_count": 7,
      "outputs": []
    },
    {
      "cell_type": "code",
      "metadata": {
        "id": "IeMjU9PIjzwC",
        "colab": {
          "base_uri": "https://localhost:8080/"
        },
        "outputId": "8645c4a5-df88-45f9-8d79-0390e5631b58"
      },
      "source": [
        "# Download stopwords and create a ProfanityFilter using Spacy\n",
        "nltk.download('punkt')\n",
        "nltk.download('stopwords')\n",
        "\n",
        "nlp = spacy.load('en_core_web_sm')\n",
        "profanity_filter = ProfanityFilter(nlps={'en': nlp})\n",
        "nlp.add_pipe(profanity_filter.spacy_component, last=True)\n",
        "stopwords = nlp.Defaults.stop_words"
      ],
      "execution_count": 8,
      "outputs": [
        {
          "output_type": "stream",
          "name": "stdout",
          "text": [
            "[nltk_data] Downloading package punkt to /root/nltk_data...\n",
            "[nltk_data]   Unzipping tokenizers/punkt.zip.\n",
            "[nltk_data] Downloading package stopwords to /root/nltk_data...\n",
            "[nltk_data]   Unzipping corpora/stopwords.zip.\n"
          ]
        }
      ]
    },
    {
      "cell_type": "code",
      "metadata": {
        "id": "mLD6LXHRU1DR"
      },
      "source": [
        "#Credit: https://github.com/ipavlopoulos/toxic_spans/blob/master/evaluation/fix_spans.py\n",
        "#This method is provided the task organizers to extract contiguous ranges in the given span \n",
        "# E.g. [1, 2, 3, 5, 6, 7] -> [(1,3), (5,7)]\n",
        "def contiguous_ranges(span_list):\n",
        "    output = []\n",
        "    for _, span in itertools.groupby(\n",
        "        enumerate(span_list), lambda p: p[1] - p[0]):\n",
        "        span = list(span)\n",
        "        output.append((span[0][1], span[-1][1]))\n",
        "    return output"
      ],
      "execution_count": 9,
      "outputs": []
    },
    {
      "cell_type": "code",
      "metadata": {
        "id": "DdH1X9N5UxyF"
      },
      "source": [
        "#This method will perform minor edits by trimming the spans and removing singletons\n",
        "#Credit: https://github.com/ipavlopoulos/toxic_spans/blob/master/evaluation/fix_spans.py\n",
        "SPECIAL_CHARACTERS = string.whitespace\n",
        "def fix_spans(spans, text, special_characters=SPECIAL_CHARACTERS):\n",
        "  # print(spans)\n",
        "  # print(text)\n",
        "  cleaned = []\n",
        "  for begin, end in contiguous_ranges(spans):\n",
        "      while text[begin] in special_characters and begin < end:\n",
        "          begin += 1\n",
        "      while text[end] in special_characters and begin < end:\n",
        "          end -= 1\n",
        "      if end - begin > 1:\n",
        "          cleaned.extend(range(begin, end + 1))\n",
        "  return cleaned"
      ],
      "execution_count": 10,
      "outputs": []
    },
    {
      "cell_type": "code",
      "metadata": {
        "id": "2NJgk71gVi2p"
      },
      "source": [
        "#This method is used to invoke the fix_spans method to perform minor edits to the spans\n",
        "def clean_spans(spans, posts):\n",
        "  clean_span_list = list()\n",
        "  for index, span in enumerate(spans):\n",
        "    clean_span_list.append(fix_spans(span, posts[index]))\n",
        "  return clean_span_list"
      ],
      "execution_count": 11,
      "outputs": []
    },
    {
      "cell_type": "markdown",
      "metadata": {
        "id": "a9KbYC58wwFg"
      },
      "source": [
        "### **Compute Number of Spans**"
      ]
    },
    {
      "cell_type": "code",
      "metadata": {
        "id": "QpGg--6PYfMO"
      },
      "source": [
        "# This method is used to compute the number of spans in the train, trial and test data\n",
        "def number_of_spans(spans):\n",
        "  empty_spans_count = 0\n",
        "  single_spans_count = 0\n",
        "  multi_spans_count = 0\n",
        "\n",
        "  for index, span in enumerate(spans):\n",
        "    if len(span) == 0:\n",
        "      empty_spans_count += 1\n",
        "    else:\n",
        "      list_of_spans = contiguous_ranges(span)\n",
        "      single_spans_count += len(list_of_spans) == 1\n",
        "      multi_spans_count += len(list_of_spans) > 1\n",
        "\n",
        "  return empty_spans_count, single_spans_count, multi_spans_count"
      ],
      "execution_count": 12,
      "outputs": []
    },
    {
      "cell_type": "markdown",
      "metadata": {
        "id": "2r5mRL60wiZ9"
      },
      "source": [
        "### **Load Training Data**"
      ]
    },
    {
      "cell_type": "code",
      "metadata": {
        "id": "sv6QGNaGH5zZ"
      },
      "source": [
        "# Method to load the training data and compute few exploratory metrics\n",
        "def load_train_dataset():\n",
        "  toxic_data = tsd_train\n",
        "  toxic_data[\"spans\"] = toxic_data.spans.apply(literal_eval)\n",
        "  texts, spans = toxic_data[\"text\"], toxic_data[\"spans\"]\n",
        "\n",
        "  #Put the text and spans in list\n",
        "  toxic_text_list = texts.values.tolist()\n",
        "  toxic_spans_list = spans.values.tolist()\n",
        "\n",
        "  #Clean the spans to remove singletons and trimming spaces. Code provided by SemEval organizers\n",
        "  cleaned_spans = clean_spans(toxic_spans_list, toxic_text_list)\n",
        "\n",
        "  # Get number of spans\n",
        "  empty_spans_count, single_spans_count, multi_spans_count = number_of_spans(toxic_spans_list)\n",
        "\n",
        "  print('Total Training Samples:', len(toxic_text_list))\n",
        "  print('Empty Spans:', empty_spans_count)\n",
        "  print('Single Spans:', single_spans_count)\n",
        "  print('Multi Spans:', multi_spans_count)\n",
        "  print('*************************************************************')\n",
        "\n",
        "  return toxic_text_list, cleaned_spans"
      ],
      "execution_count": 13,
      "outputs": []
    },
    {
      "cell_type": "markdown",
      "metadata": {
        "id": "znttq_VpwlGZ"
      },
      "source": [
        "### **Load Trial Data**"
      ]
    },
    {
      "cell_type": "code",
      "metadata": {
        "id": "tNlE-J9Jh6-J"
      },
      "source": [
        "# Method to load the trial data and compute few exploratory metrics\n",
        "def load_trial_dataset():\n",
        "  toxic_data = tsd_trail\n",
        "  toxic_data[\"spans\"] = toxic_data.spans.apply(literal_eval)\n",
        "  texts, spans = toxic_data[\"text\"], toxic_data[\"spans\"]\n",
        "\n",
        "  #Put the text and spans in list\n",
        "  toxic_text_list = texts.values.tolist()\n",
        "  toxic_spans_list = spans.values.tolist()\n",
        "\n",
        "  #Clean the spans to remove singletons and trimming spaces. Code provided by SemEval organizers\n",
        "  cleaned_spans = clean_spans(toxic_spans_list, toxic_text_list)\n",
        "\n",
        "  # Get number of spans\n",
        "  empty_spans_count, single_spans_count, multi_spans_count = number_of_spans(toxic_spans_list)\n",
        "\n",
        "  print('Total Validation Samples:', len(toxic_text_list))\n",
        "  print('Empty Spans:', empty_spans_count)\n",
        "  print('Single Spans:', single_spans_count)\n",
        "  print('Multi Spans:', multi_spans_count)\n",
        "  print('*************************************************************')\n",
        "\n",
        "  return toxic_text_list, cleaned_spans"
      ],
      "execution_count": 14,
      "outputs": []
    },
    {
      "cell_type": "markdown",
      "metadata": {
        "id": "XkFo37EWwnsA"
      },
      "source": [
        "### **Load Test Data**"
      ]
    },
    {
      "cell_type": "code",
      "metadata": {
        "id": "tNg5Y7q_M9R3"
      },
      "source": [
        "# Method to load the test data and compute few exploratory metrics\n",
        "def load_test_dataset():\n",
        "  toxic_data = tsd_test\n",
        "  toxic_data[\"spans\"] = toxic_data.spans.apply(literal_eval)\n",
        "  texts, spans = toxic_data[\"text\"], toxic_data[\"spans\"]\n",
        "\n",
        "  #Put the text and spans in list\n",
        "  toxic_text_list = texts.values.tolist()\n",
        "  toxic_spans_list = spans.values.tolist()\n",
        "\n",
        "  #Clean the spans to remove singletons and trimming spaces. Code provided by SemEval organizers\n",
        "  cleaned_spans = clean_spans(toxic_spans_list, toxic_text_list)\n",
        "\n",
        "  # Get number of spans\n",
        "  empty_spans_count, single_spans_count, multi_spans_count = number_of_spans(toxic_spans_list)\n",
        "\n",
        "  print('Total Test Samples:', len(toxic_text_list))\n",
        "  print('Empty Spans:', empty_spans_count)\n",
        "  print('Single Spans:', single_spans_count)\n",
        "  print('Multi Spans:', multi_spans_count)\n",
        "  print('*************************************************************')\n",
        "\n",
        "  return toxic_text_list, cleaned_spans"
      ],
      "execution_count": 15,
      "outputs": []
    },
    {
      "cell_type": "markdown",
      "metadata": {
        "id": "RYjuTddnwqfj"
      },
      "source": [
        "### **Compute Maximum Post Length**"
      ]
    },
    {
      "cell_type": "code",
      "metadata": {
        "id": "9FYJ3V0ufRzA"
      },
      "source": [
        "# This method will compute the maximum length of a post in train, trial and test data\n",
        "def max_post_length(toxic_posts):\n",
        "  max_length = 0\n",
        "  idx_max_len_post = 0\n",
        "  for index, post in enumerate(toxic_posts):\n",
        "    length = len(post)\n",
        "    if length > max_length:\n",
        "      max_length = length\n",
        "      idx_max_len_post = index\n",
        "  return idx_max_len_post, max_length"
      ],
      "execution_count": 16,
      "outputs": []
    },
    {
      "cell_type": "code",
      "metadata": {
        "id": "jlsuUKuiM3G1",
        "colab": {
          "base_uri": "https://localhost:8080/"
        },
        "outputId": "49cd5a1c-4156-470a-c986-e28c78047d3e"
      },
      "source": [
        "# Invoke method to load train, trial and test data\n",
        "train_posts, train_spans = load_train_dataset()\n",
        "trail_posts, trail_spans = load_trial_dataset()\n",
        "test_posts, test_spans = load_test_dataset()\n",
        "\n",
        "print('Train data max post length:', max_post_length(train_posts))\n",
        "print('Trial data max post length:',max_post_length(trail_posts))\n",
        "print('Test data max post length:',max_post_length(test_posts))"
      ],
      "execution_count": 17,
      "outputs": [
        {
          "output_type": "stream",
          "name": "stdout",
          "text": [
            "Total Training Samples: 7939\n",
            "Empty Spans: 485\n",
            "Single Spans: 5370\n",
            "Multi Spans: 2084\n",
            "*************************************************************\n",
            "Total Validation Samples: 690\n",
            "Empty Spans: 43\n",
            "Single Spans: 448\n",
            "Multi Spans: 199\n",
            "*************************************************************\n",
            "Total Test Samples: 2000\n",
            "Empty Spans: 394\n",
            "Single Spans: 1407\n",
            "Multi Spans: 199\n",
            "*************************************************************\n",
            "Train data max post length: (212, 1000)\n",
            "Trial data max post length: (324, 998)\n",
            "Test data max post length: (713, 1000)\n"
          ]
        }
      ]
    },
    {
      "cell_type": "code",
      "metadata": {
        "id": "H3CIeWlHu8z7"
      },
      "source": [
        "# This is used to collect all the toxic words in the train, trial and test data\n",
        "def get_toxic_words_count(posts):\n",
        "  toxic_dict = dict()\n",
        "  for post in posts:\n",
        "    sentences = sent_tokenize(post)\n",
        "    for sentence in sentences:\n",
        "      word_tokens = word_tokenize(sentence)\n",
        "      for word in word_tokens:\n",
        "        doc = nlp(word)\n",
        "        is_toxic_word = doc._.is_profane\n",
        "        if is_toxic_word:\n",
        "          if word not in toxic_dict.keys():\n",
        "            toxic_dict[word] = 1\n",
        "          else:\n",
        "            count = toxic_dict.get(word)\n",
        "            toxic_dict[word] = count + 1   \n",
        "  return toxic_dict\n",
        "  print(toxic_dict)   "
      ],
      "execution_count": 18,
      "outputs": []
    },
    {
      "cell_type": "code",
      "metadata": {
        "id": "jASOCmt0f07p"
      },
      "source": [
        "# Generate a word cloud for the most frequent toxic words\n",
        "def toxic_word_cloud(toxic_word_dict):\n",
        "  toxic_keys = toxic_words_dict.keys()\n",
        "\n",
        "  wordcloud_stopwords = set(STOPWORDS)\n",
        "  text = ' '.join([str(elem) for elem in toxic_keys])\n",
        "  wordcloud = WordCloud(width = 1200, height = 800,stopwords = stopwords,).generate(text)\n",
        "  plt.imshow(wordcloud, interpolation='bilinear')\n",
        "  plt.axis(\"off\")\n",
        "  plt.tight_layout(pad = 0)\n",
        "  plt.show()"
      ],
      "execution_count": 19,
      "outputs": []
    },
    {
      "cell_type": "code",
      "metadata": {
        "id": "fl7e1b7cgs00"
      },
      "source": [
        "#Get toxic words for training data and generate word cloud\n",
        "# train_toxic_words_dict = get_toxic_words_count(train_posts)\n",
        "# toxic_word_cloud(train_toxic_words_dict)\n",
        "\n",
        "# #Get toxic words for validation data and generate word cloud\n",
        "# trail_toxic_words_dict = get_toxic_words_count(trail_posts)\n",
        "# toxic_word_cloud(trail_toxic_words_dict)\n",
        "\n",
        "# #Get toxic words for test data and generate word cloud\n",
        "# test_toxic_words_dict = get_toxic_words_count(test_posts)\n",
        "# toxic_word_cloud(test_toxic_words_dict)"
      ],
      "execution_count": 20,
      "outputs": []
    },
    {
      "cell_type": "markdown",
      "metadata": {
        "id": "2ZuGxX6IwcVc"
      },
      "source": [
        "### **Define BERT Tokenizer and BERT Model**"
      ]
    },
    {
      "cell_type": "code",
      "metadata": {
        "id": "ufj813n33ODS",
        "colab": {
          "base_uri": "https://localhost:8080/",
          "height": 1000,
          "referenced_widgets": [
            "aeaf3007eb314944bc7b548eb6df3a13",
            "b1625813ef6e4b529e02df960ee666be",
            "2e27b9f2c78043239012e8d15007ba91",
            "89d1230eb0af4973bda26c8d8500df91",
            "0863504ed7884445840161102031c47c",
            "c51dcea587e7415ba14db347da17d18d",
            "4a40af4f94af4fb0be0a33991a221c72",
            "761c854e10814e5fbb0288f99b29eb90",
            "26d2323fd77c48c38b439fb7861393c5",
            "59909e148b484abebf2f4a2dd9987584",
            "7cb161d5628540708f0096552425ca45",
            "efc763b9aa98434a9f189f94e6104425",
            "e6d3fe6cc3a44d43afce71d207c8dfa4",
            "951af8c44b4646068295c7072ffe8744",
            "3fa9e667702342b4b9af971eb9483ee8",
            "91429a945bf34e61a8e21264db758926",
            "f3b99c9966a342698dd323150583833c",
            "fb3ae1e826b04410a38ecf3e82e91a23",
            "2261f83213624a5c9de20aba7563da98",
            "bf3666834c564eaa806e2d1fba6af801",
            "eb9c49bed6f24a9997f443ec762f9219",
            "fb46da2e52a7426698dba08966e92fe6",
            "f3a001a27da94312a6cf08f86ef20b2b",
            "38eea4288e574e28b7e1cfe09a677920",
            "7a8d9d8bc4384f62a862b4ba5b33d4b7",
            "61b6c128912f4afc99b108e2fddc4bff",
            "92108b84632f4bfc9d9c435ae04f958f",
            "906683c326ca442da6ead94c1d12ee5e",
            "c5def11055824f4ba615a06eb538bad9",
            "68c43ba76b1d44cda5ca8b61fdf95f84",
            "05a4ba39f9ec4ec0b6f90dddab013f8a",
            "b0c0730dfbe14c3c83a60e9a73012fb7",
            "4394d8ec01384291821e0cac828f0566",
            "f731198a349f4a858ebe3c111ca09735",
            "6c98d2f45e464d37ab0cf6c2c546a451",
            "96d3d8ea8ff341cd9319300dd0c66bee",
            "a31312e867b24937b0708ed89ec5e5c4",
            "0234c17510ff402b87403ea5fc0f7bc2",
            "1d69fecc745b445d8d2dc8d33afbd011",
            "987ba7e2175f4bfd91f30b475de51bb9",
            "d4573ebf36c84f798c831c1ad619542e",
            "5416c1caa5574d6b8ddf0fbebef2d7d5",
            "219eb9b0ce1c4c0fb87556b2d8940d68",
            "c2a9444a5c7a46679562eb0dac8f75a7",
            "e5888fbf386b46959f434193407c7f3e",
            "2302b92229624276b3d2f8e6911a74fd",
            "9eb59f77aef3472e8714ba3d61a0ba62",
            "855d580ca8b6460dada3f14c36d45d8c",
            "2625e5defe0d4ae98e2d92d1ed5204a3",
            "131f225a2b2f4c7f987f591c4ddb3514",
            "57855adea6e9458db0e1a8a36652e316",
            "e0d13755321a48f19cda537f19e5b554",
            "c7f5a5ddfd0046d2bca3e4c2466286bd",
            "15f12a494f51403196131c8ec59d0ac3",
            "86f6b6b3b8cb47b0b4972565063aac06"
          ]
        },
        "outputId": "22135945-84e0-4585-8c75-0f442ed00d00"
      },
      "source": [
        "# Define BERT Tokenizer and BERT Model\n",
        "bertTokenizer = BertTokenizerFast.from_pretrained('bert-base-uncased')\n",
        "bertModel = BertForTokenClassification.from_pretrained('bert-base-uncased', num_labels=2)\n",
        "bertModel.to(device)"
      ],
      "execution_count": 21,
      "outputs": [
        {
          "output_type": "display_data",
          "data": {
            "application/vnd.jupyter.widget-view+json": {
              "model_id": "aeaf3007eb314944bc7b548eb6df3a13",
              "version_minor": 0,
              "version_major": 2
            },
            "text/plain": [
              "Downloading:   0%|          | 0.00/226k [00:00<?, ?B/s]"
            ]
          },
          "metadata": {}
        },
        {
          "output_type": "display_data",
          "data": {
            "application/vnd.jupyter.widget-view+json": {
              "model_id": "efc763b9aa98434a9f189f94e6104425",
              "version_minor": 0,
              "version_major": 2
            },
            "text/plain": [
              "Downloading:   0%|          | 0.00/455k [00:00<?, ?B/s]"
            ]
          },
          "metadata": {}
        },
        {
          "output_type": "display_data",
          "data": {
            "application/vnd.jupyter.widget-view+json": {
              "model_id": "f3a001a27da94312a6cf08f86ef20b2b",
              "version_minor": 0,
              "version_major": 2
            },
            "text/plain": [
              "Downloading:   0%|          | 0.00/28.0 [00:00<?, ?B/s]"
            ]
          },
          "metadata": {}
        },
        {
          "output_type": "display_data",
          "data": {
            "application/vnd.jupyter.widget-view+json": {
              "model_id": "f731198a349f4a858ebe3c111ca09735",
              "version_minor": 0,
              "version_major": 2
            },
            "text/plain": [
              "Downloading:   0%|          | 0.00/570 [00:00<?, ?B/s]"
            ]
          },
          "metadata": {}
        },
        {
          "output_type": "display_data",
          "data": {
            "application/vnd.jupyter.widget-view+json": {
              "model_id": "e5888fbf386b46959f434193407c7f3e",
              "version_minor": 0,
              "version_major": 2
            },
            "text/plain": [
              "Downloading:   0%|          | 0.00/420M [00:00<?, ?B/s]"
            ]
          },
          "metadata": {}
        },
        {
          "output_type": "stream",
          "name": "stderr",
          "text": [
            "Some weights of the model checkpoint at bert-base-uncased were not used when initializing BertForTokenClassification: ['cls.predictions.decoder.weight', 'cls.predictions.bias', 'cls.predictions.transform.dense.weight', 'cls.predictions.transform.dense.bias', 'cls.predictions.transform.LayerNorm.weight', 'cls.predictions.transform.LayerNorm.bias', 'cls.seq_relationship.weight', 'cls.seq_relationship.bias']\n",
            "- This IS expected if you are initializing BertForTokenClassification from the checkpoint of a model trained on another task or with another architecture (e.g. initializing a BertForSequenceClassification model from a BertForPreTraining model).\n",
            "- This IS NOT expected if you are initializing BertForTokenClassification from the checkpoint of a model that you expect to be exactly identical (initializing a BertForSequenceClassification model from a BertForSequenceClassification model).\n",
            "Some weights of BertForTokenClassification were not initialized from the model checkpoint at bert-base-uncased and are newly initialized: ['classifier.bias', 'classifier.weight']\n",
            "You should probably TRAIN this model on a down-stream task to be able to use it for predictions and inference.\n"
          ]
        },
        {
          "output_type": "execute_result",
          "data": {
            "text/plain": [
              "BertForTokenClassification(\n",
              "  (bert): BertModel(\n",
              "    (embeddings): BertEmbeddings(\n",
              "      (word_embeddings): Embedding(30522, 768, padding_idx=0)\n",
              "      (position_embeddings): Embedding(512, 768)\n",
              "      (token_type_embeddings): Embedding(2, 768)\n",
              "      (LayerNorm): LayerNorm((768,), eps=1e-12, elementwise_affine=True)\n",
              "      (dropout): Dropout(p=0.1, inplace=False)\n",
              "    )\n",
              "    (encoder): BertEncoder(\n",
              "      (layer): ModuleList(\n",
              "        (0): BertLayer(\n",
              "          (attention): BertAttention(\n",
              "            (self): BertSelfAttention(\n",
              "              (query): Linear(in_features=768, out_features=768, bias=True)\n",
              "              (key): Linear(in_features=768, out_features=768, bias=True)\n",
              "              (value): Linear(in_features=768, out_features=768, bias=True)\n",
              "              (dropout): Dropout(p=0.1, inplace=False)\n",
              "            )\n",
              "            (output): BertSelfOutput(\n",
              "              (dense): Linear(in_features=768, out_features=768, bias=True)\n",
              "              (LayerNorm): LayerNorm((768,), eps=1e-12, elementwise_affine=True)\n",
              "              (dropout): Dropout(p=0.1, inplace=False)\n",
              "            )\n",
              "          )\n",
              "          (intermediate): BertIntermediate(\n",
              "            (dense): Linear(in_features=768, out_features=3072, bias=True)\n",
              "          )\n",
              "          (output): BertOutput(\n",
              "            (dense): Linear(in_features=3072, out_features=768, bias=True)\n",
              "            (LayerNorm): LayerNorm((768,), eps=1e-12, elementwise_affine=True)\n",
              "            (dropout): Dropout(p=0.1, inplace=False)\n",
              "          )\n",
              "        )\n",
              "        (1): BertLayer(\n",
              "          (attention): BertAttention(\n",
              "            (self): BertSelfAttention(\n",
              "              (query): Linear(in_features=768, out_features=768, bias=True)\n",
              "              (key): Linear(in_features=768, out_features=768, bias=True)\n",
              "              (value): Linear(in_features=768, out_features=768, bias=True)\n",
              "              (dropout): Dropout(p=0.1, inplace=False)\n",
              "            )\n",
              "            (output): BertSelfOutput(\n",
              "              (dense): Linear(in_features=768, out_features=768, bias=True)\n",
              "              (LayerNorm): LayerNorm((768,), eps=1e-12, elementwise_affine=True)\n",
              "              (dropout): Dropout(p=0.1, inplace=False)\n",
              "            )\n",
              "          )\n",
              "          (intermediate): BertIntermediate(\n",
              "            (dense): Linear(in_features=768, out_features=3072, bias=True)\n",
              "          )\n",
              "          (output): BertOutput(\n",
              "            (dense): Linear(in_features=3072, out_features=768, bias=True)\n",
              "            (LayerNorm): LayerNorm((768,), eps=1e-12, elementwise_affine=True)\n",
              "            (dropout): Dropout(p=0.1, inplace=False)\n",
              "          )\n",
              "        )\n",
              "        (2): BertLayer(\n",
              "          (attention): BertAttention(\n",
              "            (self): BertSelfAttention(\n",
              "              (query): Linear(in_features=768, out_features=768, bias=True)\n",
              "              (key): Linear(in_features=768, out_features=768, bias=True)\n",
              "              (value): Linear(in_features=768, out_features=768, bias=True)\n",
              "              (dropout): Dropout(p=0.1, inplace=False)\n",
              "            )\n",
              "            (output): BertSelfOutput(\n",
              "              (dense): Linear(in_features=768, out_features=768, bias=True)\n",
              "              (LayerNorm): LayerNorm((768,), eps=1e-12, elementwise_affine=True)\n",
              "              (dropout): Dropout(p=0.1, inplace=False)\n",
              "            )\n",
              "          )\n",
              "          (intermediate): BertIntermediate(\n",
              "            (dense): Linear(in_features=768, out_features=3072, bias=True)\n",
              "          )\n",
              "          (output): BertOutput(\n",
              "            (dense): Linear(in_features=3072, out_features=768, bias=True)\n",
              "            (LayerNorm): LayerNorm((768,), eps=1e-12, elementwise_affine=True)\n",
              "            (dropout): Dropout(p=0.1, inplace=False)\n",
              "          )\n",
              "        )\n",
              "        (3): BertLayer(\n",
              "          (attention): BertAttention(\n",
              "            (self): BertSelfAttention(\n",
              "              (query): Linear(in_features=768, out_features=768, bias=True)\n",
              "              (key): Linear(in_features=768, out_features=768, bias=True)\n",
              "              (value): Linear(in_features=768, out_features=768, bias=True)\n",
              "              (dropout): Dropout(p=0.1, inplace=False)\n",
              "            )\n",
              "            (output): BertSelfOutput(\n",
              "              (dense): Linear(in_features=768, out_features=768, bias=True)\n",
              "              (LayerNorm): LayerNorm((768,), eps=1e-12, elementwise_affine=True)\n",
              "              (dropout): Dropout(p=0.1, inplace=False)\n",
              "            )\n",
              "          )\n",
              "          (intermediate): BertIntermediate(\n",
              "            (dense): Linear(in_features=768, out_features=3072, bias=True)\n",
              "          )\n",
              "          (output): BertOutput(\n",
              "            (dense): Linear(in_features=3072, out_features=768, bias=True)\n",
              "            (LayerNorm): LayerNorm((768,), eps=1e-12, elementwise_affine=True)\n",
              "            (dropout): Dropout(p=0.1, inplace=False)\n",
              "          )\n",
              "        )\n",
              "        (4): BertLayer(\n",
              "          (attention): BertAttention(\n",
              "            (self): BertSelfAttention(\n",
              "              (query): Linear(in_features=768, out_features=768, bias=True)\n",
              "              (key): Linear(in_features=768, out_features=768, bias=True)\n",
              "              (value): Linear(in_features=768, out_features=768, bias=True)\n",
              "              (dropout): Dropout(p=0.1, inplace=False)\n",
              "            )\n",
              "            (output): BertSelfOutput(\n",
              "              (dense): Linear(in_features=768, out_features=768, bias=True)\n",
              "              (LayerNorm): LayerNorm((768,), eps=1e-12, elementwise_affine=True)\n",
              "              (dropout): Dropout(p=0.1, inplace=False)\n",
              "            )\n",
              "          )\n",
              "          (intermediate): BertIntermediate(\n",
              "            (dense): Linear(in_features=768, out_features=3072, bias=True)\n",
              "          )\n",
              "          (output): BertOutput(\n",
              "            (dense): Linear(in_features=3072, out_features=768, bias=True)\n",
              "            (LayerNorm): LayerNorm((768,), eps=1e-12, elementwise_affine=True)\n",
              "            (dropout): Dropout(p=0.1, inplace=False)\n",
              "          )\n",
              "        )\n",
              "        (5): BertLayer(\n",
              "          (attention): BertAttention(\n",
              "            (self): BertSelfAttention(\n",
              "              (query): Linear(in_features=768, out_features=768, bias=True)\n",
              "              (key): Linear(in_features=768, out_features=768, bias=True)\n",
              "              (value): Linear(in_features=768, out_features=768, bias=True)\n",
              "              (dropout): Dropout(p=0.1, inplace=False)\n",
              "            )\n",
              "            (output): BertSelfOutput(\n",
              "              (dense): Linear(in_features=768, out_features=768, bias=True)\n",
              "              (LayerNorm): LayerNorm((768,), eps=1e-12, elementwise_affine=True)\n",
              "              (dropout): Dropout(p=0.1, inplace=False)\n",
              "            )\n",
              "          )\n",
              "          (intermediate): BertIntermediate(\n",
              "            (dense): Linear(in_features=768, out_features=3072, bias=True)\n",
              "          )\n",
              "          (output): BertOutput(\n",
              "            (dense): Linear(in_features=3072, out_features=768, bias=True)\n",
              "            (LayerNorm): LayerNorm((768,), eps=1e-12, elementwise_affine=True)\n",
              "            (dropout): Dropout(p=0.1, inplace=False)\n",
              "          )\n",
              "        )\n",
              "        (6): BertLayer(\n",
              "          (attention): BertAttention(\n",
              "            (self): BertSelfAttention(\n",
              "              (query): Linear(in_features=768, out_features=768, bias=True)\n",
              "              (key): Linear(in_features=768, out_features=768, bias=True)\n",
              "              (value): Linear(in_features=768, out_features=768, bias=True)\n",
              "              (dropout): Dropout(p=0.1, inplace=False)\n",
              "            )\n",
              "            (output): BertSelfOutput(\n",
              "              (dense): Linear(in_features=768, out_features=768, bias=True)\n",
              "              (LayerNorm): LayerNorm((768,), eps=1e-12, elementwise_affine=True)\n",
              "              (dropout): Dropout(p=0.1, inplace=False)\n",
              "            )\n",
              "          )\n",
              "          (intermediate): BertIntermediate(\n",
              "            (dense): Linear(in_features=768, out_features=3072, bias=True)\n",
              "          )\n",
              "          (output): BertOutput(\n",
              "            (dense): Linear(in_features=3072, out_features=768, bias=True)\n",
              "            (LayerNorm): LayerNorm((768,), eps=1e-12, elementwise_affine=True)\n",
              "            (dropout): Dropout(p=0.1, inplace=False)\n",
              "          )\n",
              "        )\n",
              "        (7): BertLayer(\n",
              "          (attention): BertAttention(\n",
              "            (self): BertSelfAttention(\n",
              "              (query): Linear(in_features=768, out_features=768, bias=True)\n",
              "              (key): Linear(in_features=768, out_features=768, bias=True)\n",
              "              (value): Linear(in_features=768, out_features=768, bias=True)\n",
              "              (dropout): Dropout(p=0.1, inplace=False)\n",
              "            )\n",
              "            (output): BertSelfOutput(\n",
              "              (dense): Linear(in_features=768, out_features=768, bias=True)\n",
              "              (LayerNorm): LayerNorm((768,), eps=1e-12, elementwise_affine=True)\n",
              "              (dropout): Dropout(p=0.1, inplace=False)\n",
              "            )\n",
              "          )\n",
              "          (intermediate): BertIntermediate(\n",
              "            (dense): Linear(in_features=768, out_features=3072, bias=True)\n",
              "          )\n",
              "          (output): BertOutput(\n",
              "            (dense): Linear(in_features=3072, out_features=768, bias=True)\n",
              "            (LayerNorm): LayerNorm((768,), eps=1e-12, elementwise_affine=True)\n",
              "            (dropout): Dropout(p=0.1, inplace=False)\n",
              "          )\n",
              "        )\n",
              "        (8): BertLayer(\n",
              "          (attention): BertAttention(\n",
              "            (self): BertSelfAttention(\n",
              "              (query): Linear(in_features=768, out_features=768, bias=True)\n",
              "              (key): Linear(in_features=768, out_features=768, bias=True)\n",
              "              (value): Linear(in_features=768, out_features=768, bias=True)\n",
              "              (dropout): Dropout(p=0.1, inplace=False)\n",
              "            )\n",
              "            (output): BertSelfOutput(\n",
              "              (dense): Linear(in_features=768, out_features=768, bias=True)\n",
              "              (LayerNorm): LayerNorm((768,), eps=1e-12, elementwise_affine=True)\n",
              "              (dropout): Dropout(p=0.1, inplace=False)\n",
              "            )\n",
              "          )\n",
              "          (intermediate): BertIntermediate(\n",
              "            (dense): Linear(in_features=768, out_features=3072, bias=True)\n",
              "          )\n",
              "          (output): BertOutput(\n",
              "            (dense): Linear(in_features=3072, out_features=768, bias=True)\n",
              "            (LayerNorm): LayerNorm((768,), eps=1e-12, elementwise_affine=True)\n",
              "            (dropout): Dropout(p=0.1, inplace=False)\n",
              "          )\n",
              "        )\n",
              "        (9): BertLayer(\n",
              "          (attention): BertAttention(\n",
              "            (self): BertSelfAttention(\n",
              "              (query): Linear(in_features=768, out_features=768, bias=True)\n",
              "              (key): Linear(in_features=768, out_features=768, bias=True)\n",
              "              (value): Linear(in_features=768, out_features=768, bias=True)\n",
              "              (dropout): Dropout(p=0.1, inplace=False)\n",
              "            )\n",
              "            (output): BertSelfOutput(\n",
              "              (dense): Linear(in_features=768, out_features=768, bias=True)\n",
              "              (LayerNorm): LayerNorm((768,), eps=1e-12, elementwise_affine=True)\n",
              "              (dropout): Dropout(p=0.1, inplace=False)\n",
              "            )\n",
              "          )\n",
              "          (intermediate): BertIntermediate(\n",
              "            (dense): Linear(in_features=768, out_features=3072, bias=True)\n",
              "          )\n",
              "          (output): BertOutput(\n",
              "            (dense): Linear(in_features=3072, out_features=768, bias=True)\n",
              "            (LayerNorm): LayerNorm((768,), eps=1e-12, elementwise_affine=True)\n",
              "            (dropout): Dropout(p=0.1, inplace=False)\n",
              "          )\n",
              "        )\n",
              "        (10): BertLayer(\n",
              "          (attention): BertAttention(\n",
              "            (self): BertSelfAttention(\n",
              "              (query): Linear(in_features=768, out_features=768, bias=True)\n",
              "              (key): Linear(in_features=768, out_features=768, bias=True)\n",
              "              (value): Linear(in_features=768, out_features=768, bias=True)\n",
              "              (dropout): Dropout(p=0.1, inplace=False)\n",
              "            )\n",
              "            (output): BertSelfOutput(\n",
              "              (dense): Linear(in_features=768, out_features=768, bias=True)\n",
              "              (LayerNorm): LayerNorm((768,), eps=1e-12, elementwise_affine=True)\n",
              "              (dropout): Dropout(p=0.1, inplace=False)\n",
              "            )\n",
              "          )\n",
              "          (intermediate): BertIntermediate(\n",
              "            (dense): Linear(in_features=768, out_features=3072, bias=True)\n",
              "          )\n",
              "          (output): BertOutput(\n",
              "            (dense): Linear(in_features=3072, out_features=768, bias=True)\n",
              "            (LayerNorm): LayerNorm((768,), eps=1e-12, elementwise_affine=True)\n",
              "            (dropout): Dropout(p=0.1, inplace=False)\n",
              "          )\n",
              "        )\n",
              "        (11): BertLayer(\n",
              "          (attention): BertAttention(\n",
              "            (self): BertSelfAttention(\n",
              "              (query): Linear(in_features=768, out_features=768, bias=True)\n",
              "              (key): Linear(in_features=768, out_features=768, bias=True)\n",
              "              (value): Linear(in_features=768, out_features=768, bias=True)\n",
              "              (dropout): Dropout(p=0.1, inplace=False)\n",
              "            )\n",
              "            (output): BertSelfOutput(\n",
              "              (dense): Linear(in_features=768, out_features=768, bias=True)\n",
              "              (LayerNorm): LayerNorm((768,), eps=1e-12, elementwise_affine=True)\n",
              "              (dropout): Dropout(p=0.1, inplace=False)\n",
              "            )\n",
              "          )\n",
              "          (intermediate): BertIntermediate(\n",
              "            (dense): Linear(in_features=768, out_features=3072, bias=True)\n",
              "          )\n",
              "          (output): BertOutput(\n",
              "            (dense): Linear(in_features=3072, out_features=768, bias=True)\n",
              "            (LayerNorm): LayerNorm((768,), eps=1e-12, elementwise_affine=True)\n",
              "            (dropout): Dropout(p=0.1, inplace=False)\n",
              "          )\n",
              "        )\n",
              "      )\n",
              "    )\n",
              "  )\n",
              "  (dropout): Dropout(p=0.1, inplace=False)\n",
              "  (classifier): Linear(in_features=768, out_features=2, bias=True)\n",
              ")"
            ]
          },
          "metadata": {},
          "execution_count": 21
        }
      ]
    },
    {
      "cell_type": "markdown",
      "metadata": {
        "id": "1a97zmWSwXDg"
      },
      "source": [
        "### **Tokenize the train, trial and test datasets**"
      ]
    },
    {
      "cell_type": "code",
      "metadata": {
        "id": "WKSGmZ8FCKY0"
      },
      "source": [
        "#Tokenize Training, Validation and Testing data\n",
        "train_posts_encodings = bertTokenizer(train_posts, return_offsets_mapping=True,  padding=True, truncation=True, return_tensors=\"pt\")\n",
        "trial_posts_encodings = bertTokenizer(trail_posts, return_offsets_mapping=True, padding=True, truncation=True, return_tensors=\"pt\")\n",
        "test_posts_encodings = bertTokenizer(test_posts, return_offsets_mapping=True, padding=True, truncation=True, return_tensors=\"pt\")"
      ],
      "execution_count": 22,
      "outputs": []
    },
    {
      "cell_type": "markdown",
      "metadata": {
        "id": "E_jM2zN2wOXa"
      },
      "source": [
        "### **Update the ground truth toxic spans labels**"
      ]
    },
    {
      "cell_type": "code",
      "metadata": {
        "id": "UPpgolKUiIug"
      },
      "source": [
        "# This method is used match the spans after BERT tokenizes words into sub-tokens\n",
        "def encode_spans(encoding, span):\n",
        "  labels = [0] * len(encoding.tokens)\n",
        "\n",
        "  toxic_indices = set(span)\n",
        "  for i, offset in enumerate(encoding.offsets):\n",
        "    if offset == (0, 0):\n",
        "      labels[i] = -100    \n",
        "    else:\n",
        "      for k in range(offset[0], offset[1]):\n",
        "        if k in toxic_indices: \n",
        "          labels[i] = 1\n",
        "          break\n",
        "  \n",
        "  return labels"
      ],
      "execution_count": 23,
      "outputs": []
    },
    {
      "cell_type": "code",
      "metadata": {
        "id": "rFOmBxr2NgUI"
      },
      "source": [
        "# Update train, trial and test spans to match with the sub-tokens\n",
        "train_spans_updated = [encode_spans(train_posts_encodings[i], span) for i, span in enumerate(train_spans)]\n",
        "trial_spans_updated = [encode_spans(trial_posts_encodings[i], span) for i, span in enumerate(trail_spans)]\n",
        "test_spans_updated = [encode_spans(test_posts_encodings[i], span) for i, span in enumerate(test_spans)]"
      ],
      "execution_count": 24,
      "outputs": []
    },
    {
      "cell_type": "code",
      "metadata": {
        "id": "ra99zmLZNtie"
      },
      "source": [
        "#Define the class for Toxic Spans Dataset\n",
        "#Credit: https://huggingface.co/transformers/custom_datasets.html#ft-native\n",
        "class ToxicDataset(torch.utils.data.Dataset):\n",
        "    def __init__(self, encodings, labels):\n",
        "        self.encodings = encodings\n",
        "        self.labels = labels\n",
        "\n",
        "    def __getitem__(self, idx):\n",
        "        item = {key: torch.tensor(val[idx]) for key, val in self.encodings.items()}\n",
        "        item['labels'] = torch.tensor(self.labels[idx])\n",
        "        return item\n",
        "\n",
        "    def __len__(self):\n",
        "        return len(self.labels)"
      ],
      "execution_count": 25,
      "outputs": []
    },
    {
      "cell_type": "markdown",
      "metadata": {
        "id": "3ppTSDI-wIj3"
      },
      "source": [
        "### **Create PyTorch Dataset objects**"
      ]
    },
    {
      "cell_type": "code",
      "metadata": {
        "id": "0iCdqSbzOLu4"
      },
      "source": [
        "# Crete ToxicDataset object for training, trial and test datasets\n",
        "train_dataset = ToxicDataset(train_posts_encodings, train_spans_updated)\n",
        "trial_dataset = ToxicDataset(trial_posts_encodings, trial_spans_updated)\n",
        "test_dataset = ToxicDataset(test_posts_encodings, test_spans_updated)"
      ],
      "execution_count": 26,
      "outputs": []
    },
    {
      "cell_type": "markdown",
      "metadata": {
        "id": "epkuhPTWwMpS"
      },
      "source": [
        ""
      ]
    },
    {
      "cell_type": "code",
      "metadata": {
        "id": "DaYtpWpJOVXu"
      },
      "source": [
        "# Offset Mappings are not passed to the BERT Model. So Remove them from the encodings\n",
        "train_offset_mapping = train_posts_encodings.pop(\"offset_mapping\") \n",
        "trial_offset_mapping = trial_posts_encodings.pop(\"offset_mapping\")\n",
        "test_offset_mapping = test_posts_encodings.pop(\"offset_mapping\")"
      ],
      "execution_count": 27,
      "outputs": []
    },
    {
      "cell_type": "markdown",
      "metadata": {
        "id": "lCn9chH_wDcp"
      },
      "source": [
        "### **Perform Post-processing Steps**"
      ]
    },
    {
      "cell_type": "code",
      "metadata": {
        "id": "kN1vbc6xaxNN"
      },
      "source": [
        "# This method will do the post-processing steps as defined in the modle\n",
        "def post_process_predictions(predicted_offsets, posts_offset_mappings, posts_encodings):\n",
        "    # Compute softmax output for all the predictions\n",
        "    predictions = predicted_offsets.predictions.argmax(-1)\n",
        "    pred_offsets_scores = predicted_offsets.predictions\n",
        "  \n",
        "    final_processed_char_offsets = list()\n",
        "\n",
        "    # Iterate over each offset mapping, and its corresponding prediction\n",
        "    for index, (offset, prediction) in enumerate(zip(posts_offset_mappings, predictions)):\n",
        "        post_processed_offset = list()\n",
        "        # Get tokens for each post\n",
        "        offset_tokens = posts_encodings[index].tokens\n",
        "          \n",
        "        current_token_index = 1\n",
        "        # Iterate over all the token to find the post processed character offsets\n",
        "        while current_token_index < len(offset_tokens):\n",
        "            # print('***********************************************************')\n",
        "            # print('Current Token: {} being looked at index: {} :'.format(offset_tokens[current_token_index], current_token_index)) \n",
        "           \n",
        "            # If the token being processed is '[SEP]' then break the loop\n",
        "            if offset_tokens[current_token_index] == '[SEP]':\n",
        "                # print('SEP token found')\n",
        "                break\n",
        "            char_offsets = list()\n",
        "    \n",
        "            # Get current and next tokens\n",
        "            current_token = offset_tokens[current_token_index]\n",
        "      \n",
        "            # This if condition will handle the last token in the tokens list\n",
        "            if current_token_index + 1 == len(offset_tokens):\n",
        "                # print('Last token being monitored')\n",
        "                current_token_prediction = prediction[current_token_index]\n",
        "                previous_token_prediction = prediction[current_token_index - 1]\n",
        "                if current_token_prediction == 1:  \n",
        "                    if previous_token_prediction == 1:\n",
        "                        prev_token_offset_values = get_last_offset_value(offset, current_token_index - 1)\n",
        "                        char_offsets.extend(prev_token_offset_values)\n",
        "    \n",
        "                current_token_offset_values = get_offset_values_from_range(offset, current_token_index)\n",
        "                break\n",
        "            else:   # This else will handle all the tokens except the last one\n",
        "                # print('Start current token index:', current_token_index)\n",
        "                # print('Current Token: {} being looked at index: {} :'.format(current_token, current_token_index))     \n",
        "                next_token = offset_tokens[current_token_index + 1]        \n",
        "    \n",
        "                # Get current and next token predictions\n",
        "                previous_token_prediction = prediction[current_token_index - 1]\n",
        "                current_token_prediction = prediction[current_token_index]\n",
        "                next_token_prediction = prediction[current_token_index + 1]\n",
        "    \n",
        "                # check if next token starts with '##'\n",
        "                is_current_token_starts_with_hash = current_token.startswith('##')\n",
        "                is_next_token_starts_with_hash = next_token.startswith('##')\n",
        "        \n",
        "                # print('start token with hash:', is_current_token_starts_with_hash)\n",
        "                # print('next token with hash:', is_next_token_starts_with_hash)\n",
        "    \n",
        "                if (not is_current_token_starts_with_hash) and (not is_next_token_starts_with_hash):\n",
        "                    if current_token_prediction == 1 and next_token_prediction == 1:\n",
        "                        # If Previous token prediction = 1 then get index value of the last element in the range\n",
        "                        if previous_token_prediction == 1:\n",
        "                            prev_token_offset_values = get_last_offset_value(offset, current_token_index - 1)\n",
        "                            char_offsets.extend(prev_token_offset_values)\n",
        "                            # print('Previous Token offset values:', prev_token_offset_values)\n",
        "                          \n",
        "                        current_token_offset_values = get_offset_values_from_range(offset, current_token_index)\n",
        "                        next_token_offset_values = get_offset_values_from_range(offset, current_token_index + 1)\n",
        "                        end_token_offset_values = get_last_offset_value(offset, current_token_index)\n",
        "                        # print('End Token offset value:', end_token_offset_values)\n",
        "    \n",
        "                        char_offsets.extend(current_token_offset_values) \n",
        "                        char_offsets.extend(end_token_offset_values)\n",
        "                        char_offsets.extend(next_token_offset_values)\n",
        "                        # print('Consecute tokens offset values{[]},{[]},{[]}:', current_token_offset_values, end_token_offset_values, next_token_offset_values)\n",
        "    \n",
        "                        current_token_index = current_token_index + 2\n",
        "    \n",
        "                    elif current_token_prediction == 1 and next_token_prediction != 1:\n",
        "                        if previous_token_prediction == 1:\n",
        "                            prev_token_offset_values = get_last_offset_value(offset, current_token_index - 1)\n",
        "                            char_offsets.extend(prev_token_offset_values)\n",
        "    \n",
        "                        current_token_offset_values = get_offset_values_from_range(offset, current_token_index)\n",
        "                        char_offsets.extend(current_token_offset_values)\n",
        "                        current_token_index = current_token_index + 1\n",
        "                    else:\n",
        "                        current_token_index = current_token_index + 1\n",
        "    \n",
        "                elif is_current_token_starts_with_hash or is_next_token_starts_with_hash:  \n",
        "                    hash_char_offsets = list()  \n",
        "                    hash_char_predictions = list()   \n",
        "                    # print('Token with hash found:', next_token) \n",
        "    \n",
        "                    if previous_token_prediction == 1:\n",
        "                        prev_token_offset_values = get_last_offset_value(offset, current_token_index - 1)\n",
        "                        hash_char_offsets.extend(prev_token_offset_values)\n",
        "    \n",
        "                    current_token_offset_value = get_offset_values_from_range(offset, current_token_index)\n",
        "                    current_token_prediction = prediction[current_token_index]\n",
        "                    hash_char_offsets.extend(current_token_offset_value)\n",
        "                    hash_char_predictions.append(current_token_prediction)\n",
        "    \n",
        "                    # print('Hash Char offsets:',hash_char_offsets)\n",
        "    \n",
        "                    current_token_index = current_token_index + 1\n",
        "                    while current_token_index < len(offset_tokens):\n",
        "                        current_token = offset_tokens[current_token_index]\n",
        "                        # print('In while loop token:', current_token)\n",
        "                        if(current_token.startswith('##')):\n",
        "                            current_token_offset_value = get_offset_values_from_range(offset, current_token_index)\n",
        "                            current_token_prediction = prediction[current_token_index]\n",
        "                            hash_char_offsets.extend(current_token_offset_value)\n",
        "                            hash_char_predictions.append(current_token_prediction)\n",
        "                            # print('Hash Char offsets:',hash_char_offsets)\n",
        "                            current_token_index = current_token_index + 1\n",
        "                        else:\n",
        "                            break\n",
        "                        # print('Predictions with ##:', hash_char_predictions)\n",
        "                        if 1 in hash_char_predictions:\n",
        "                            char_offsets.extend(hash_char_offsets)                  \n",
        "    \n",
        "            post_processed_offset.extend(char_offsets)  \n",
        "        final_processed_char_offsets.append(post_processed_offset)  \n",
        "        # print('Post Processed Offsets:', final_processed_char_offsets)\n",
        "    return final_processed_char_offsets"
      ],
      "execution_count": 28,
      "outputs": []
    },
    {
      "cell_type": "code",
      "metadata": {
        "id": "-pRAzoFMPxFG"
      },
      "source": [
        "# This method will compute the offset value in a given range\n",
        "def get_offset_values_from_range(offset_mapping, index):\n",
        "  offset_values = []\n",
        "  first_offset = offset_mapping[index][0]\n",
        "  second_offset = offset_mapping[index][1]\n",
        "\n",
        "  # print('Offset being looked at:{},{}'.format(first_offset, second_offset))\n",
        "  for i in range(first_offset, second_offset):\n",
        "    offset_values.append(i)\n",
        "  return offset_values"
      ],
      "execution_count": 29,
      "outputs": []
    },
    {
      "cell_type": "code",
      "metadata": {
        "id": "66ezsJ4ZIfJE"
      },
      "source": [
        "# This method will return the last offset value for a given offset mapping\n",
        "def get_last_offset_value(offset_mapping, index):\n",
        "  offset_values = []\n",
        "  first_offset = offset_mapping[index][1]\n",
        "  second_offset = offset_mapping[index + 1][0]\n",
        "\n",
        "  # print('Offset being looked at:{},{}'.format(first_offset, second_offset))\n",
        "  for i in range(first_offset, second_offset):\n",
        "    offset_values.append(i)\n",
        "  return offset_values"
      ],
      "execution_count": 30,
      "outputs": []
    },
    {
      "cell_type": "code",
      "metadata": {
        "id": "FHUZut-hKk2D"
      },
      "source": [
        "# This method will compute per post precision\n",
        "def compute_per_post_precision(pred_spans, true_spans):\n",
        "  pred_spans_length = len(pred_spans)\n",
        "  true_spans_length = len(true_spans)\n",
        "  \n",
        "  # Return Precision = 1 if both length of predicted and true spans are of length 0 \n",
        "  # else return Precision = 0\n",
        "  if true_spans_length == 0:\n",
        "    if pred_spans_length == 0:\n",
        "      return 1.0\n",
        "    else:\n",
        "     return 0.0\n",
        "  \n",
        "  # Return zero precision when predicted spans length is zero\n",
        "  if pred_spans_length == 0:\n",
        "    return 0.0\n",
        "\n",
        "  spans_intersection = set(pred_spans).intersection(set(true_spans))\n",
        "  precision = len(spans_intersection) / pred_spans_length\n",
        "\n",
        "  return float(precision)"
      ],
      "execution_count": 31,
      "outputs": []
    },
    {
      "cell_type": "code",
      "metadata": {
        "id": "-HJdKx6nKpTD"
      },
      "source": [
        "# This method will compute per post recall value\n",
        "def compute_per_post_recall(pred_spans, true_spans):\n",
        "  pred_spans_length = len(pred_spans)\n",
        "  true_spans_length = len(true_spans)\n",
        "  \n",
        "  # Return Recall = 1 if both length of predicted and true spans are of length 0 \n",
        "  # else return Recall = 0\n",
        "  if true_spans_length == 0:\n",
        "    if pred_spans_length == 0:\n",
        "      return 1.0\n",
        "    else:\n",
        "     return 0.0\n",
        "  \n",
        "  # Return zero precision when predicted spans length is zero\n",
        "  if pred_spans_length == 0:\n",
        "    return 0.0\n",
        "\n",
        "  spans_intersection = set(pred_spans).intersection(set(true_spans))\n",
        "  recall = len(spans_intersection) / true_spans_length\n",
        "\n",
        "  return float(recall)"
      ],
      "execution_count": 32,
      "outputs": []
    },
    {
      "cell_type": "code",
      "metadata": {
        "id": "iokqgvXrKr4A"
      },
      "source": [
        "# This method will compute per post f1-score\n",
        "def compute_per_post_f1_score(pred_spans, true_spans):\n",
        "  precision = compute_per_post_precision(pred_spans, true_spans)\n",
        "  recall = compute_per_post_recall(pred_spans, true_spans)\n",
        "\n",
        "  pred_spans_length = len(pred_spans)\n",
        "  true_spans_length = len(true_spans)\n",
        "\n",
        "  if(true_spans_length == 0):\n",
        "    return 1.0 if pred_spans_length == 0 else 0.0\n",
        "  \n",
        "  if pred_spans_length == 0:\n",
        "    return 0.0\n",
        "\n",
        "  pred_spans_set = set(pred_spans)\n",
        "  true_spans_set = set(true_spans)\n",
        "\n",
        "  spans_intersection = pred_spans_set.intersection(true_spans_set)\n",
        "  spans_intersection_length = len(spans_intersection)\n",
        "\n",
        "  f1_score = (2 * spans_intersection_length) / (pred_spans_length + true_spans_length)\n",
        "\n",
        "  return float(f1_score)"
      ],
      "execution_count": 33,
      "outputs": []
    },
    {
      "cell_type": "code",
      "metadata": {
        "id": "cEZ_-ujIbG-Q"
      },
      "source": [
        "# This method will compute system level precision, recall and f1-score values\n",
        "def compute_all_evaluation_metrics(pred_spans, true_spans):\n",
        "  total_precision = [compute_per_post_precision(pred_span, true_span) for pred_span, true_span in zip(pred_spans, true_spans)]\n",
        "  total_recall = [compute_per_post_recall(pred_span, true_span) for pred_span, true_span in zip(pred_spans, true_spans)]\n",
        "  total_f1_score = [compute_per_post_f1_score(pred_span, true_span) for pred_span, true_span in zip(pred_spans, true_spans)]\n",
        "\n",
        "  mean_precision = np.mean(total_precision)\n",
        "  mean_recall = np.mean(total_recall)\n",
        "  mean_f1_score = np.mean(total_f1_score)\n",
        "  \n",
        "  return mean_precision, mean_recall, mean_f1_score  "
      ],
      "execution_count": 34,
      "outputs": []
    },
    {
      "cell_type": "code",
      "metadata": {
        "id": "8yVRtnXZbKcc"
      },
      "source": [
        "# This method will compute the evaluation metrics for the predicted and true spans\n",
        "def compute_metrics(pred_offsets, true_spans, offset_mappings, posts_encodings):  \n",
        "  pred_spans = post_process_predictions(pred_offsets, offset_mappings, posts_encodings)\n",
        "  precision, recall, f1_score = compute_all_evaluation_metrics(pred_spans, true_spans)\n",
        "\n",
        "  return precision, recall, f1_score"
      ],
      "execution_count": 35,
      "outputs": []
    },
    {
      "cell_type": "code",
      "metadata": {
        "id": "2_T3RZQsZBku",
        "colab": {
          "base_uri": "https://localhost:8080/",
          "height": 34
        },
        "outputId": "356f8b0c-af5e-46ff-ee3f-6daba71755c5"
      },
      "source": [
        "plt.figure(dpi=600)\n",
        "plt.rc('axes', labelsize=16)\n",
        "plt.rc('font', size=13)   \n",
        "#This method will plot the confusion matrix\n",
        "def plot_confusion_matrices(encodings, predictions, labels):\n",
        "\n",
        "  y_true, y_pred = [], []\n",
        "  \n",
        "  for i, (pred, gold) in enumerate(zip(predictions, labels)):\n",
        "    sep_token = 1\n",
        "    tokens = encodings[i].tokens\n",
        "    #print('Tokens:', tokens)\n",
        "    #print('Predictions:', pred)\n",
        "    #print('True Spans:', gold)\n",
        "    while tokens[sep_token] != '[SEP]':\n",
        "      sep_token += 1\n",
        "    y_true.extend(gold[1: sep_token])\n",
        "    y_pred.extend(pred[1: sep_token])\n",
        "\n",
        "  true_length = len(y_true);\n",
        "  y_pred = y_pred[:true_length]\n",
        "  # Normal confusion matrix\n",
        "  cf_matrix = confusion_matrix(y_true, y_pred)\n",
        "  labels = ['Neutral', 'Toxic']\n",
        "  \n",
        "  ax = plt.axes()\n",
        "  sns_plot = sns.heatmap(cf_matrix / np.sum(cf_matrix), \n",
        "                        annot=True, fmt='.2%',\n",
        "                        xticklabels=labels, yticklabels=labels, \n",
        "                        ax = ax,\n",
        "                        cmap=\"YlGnBu\")\n",
        "\n",
        "  ax.set_xlabel('Predicted')\n",
        "  ax.set_ylabel('Actual')"
      ],
      "execution_count": 36,
      "outputs": [
        {
          "output_type": "display_data",
          "data": {
            "text/plain": [
              "<Figure size 3600x2400 with 0 Axes>"
            ]
          },
          "metadata": {}
        }
      ]
    },
    {
      "cell_type": "markdown",
      "metadata": {
        "id": "SlCiwrHFv726"
      },
      "source": [
        "### **Hyperparameter Tuning**"
      ]
    },
    {
      "cell_type": "code",
      "metadata": {
        "id": "LZOkvHaSO8y5"
      },
      "source": [
        "# Configure Training Arguments for training the BERT Model\n",
        "# Credit: https://huggingface.co/transformers/main_classes/trainer.html#trainingarguments\n",
        "training_args = TrainingArguments(\n",
        "  output_dir = '/drive/MyDrive/',\n",
        "  num_train_epochs = 2,                 # total number of training epochs\n",
        "  per_device_train_batch_size = 16,     # batch size per device during training\n",
        "  per_device_eval_batch_size = 16,      # batch size for evaluation\n",
        "  warmup_steps = 500,                   # number of warmup steps for learning rate scheduler\n",
        "  weight_decay = 0.01,                  # strength of weight decay\n",
        "  do_eval = True,                       # whether to run evaluation on the val set\n",
        "  evaluation_strategy = \"steps\",        # evaluation is done (and logged) every logging_steps \n",
        "  learning_rate = 5e-5,                 # 5e-5 is default learning rate\n",
        "  disable_tqdm = False,                 # remove tqdm statements to reduce clutter\n",
        ")"
      ],
      "execution_count": 37,
      "outputs": []
    },
    {
      "cell_type": "code",
      "metadata": {
        "id": "lBRL5Gmeezom",
        "colab": {
          "base_uri": "https://localhost:8080/"
        },
        "outputId": "29e531be-20c8-4917-a22a-4f35480d98a4"
      },
      "source": [
        "from google.colab import drive\n",
        "drive.mount('/content/drive')"
      ],
      "execution_count": 38,
      "outputs": [
        {
          "output_type": "stream",
          "name": "stdout",
          "text": [
            "Drive already mounted at /content/drive; to attempt to forcibly remount, call drive.mount(\"/content/drive\", force_remount=True).\n"
          ]
        }
      ]
    },
    {
      "cell_type": "markdown",
      "metadata": {
        "id": "tvJEYrCOv25H"
      },
      "source": [
        "### **Configure the Trainer**"
      ]
    },
    {
      "cell_type": "code",
      "metadata": {
        "id": "UHQ03FJGPtlp"
      },
      "source": [
        "# Configure the Training object for training the BERT Model\n",
        "# Credit: https://huggingface.co/transformers/main_classes/trainer.html\n",
        "trainer = Trainer(\n",
        "  model=bertModel,                  # configure the model that needs to be trained\n",
        "  args=training_args,               # configure the training arguments\n",
        "  train_dataset=train_dataset,      # Initialize with the training dataset object \n",
        "  eval_dataset=trial_dataset,       # Initialize with the trial dataset object\n",
        ")"
      ],
      "execution_count": 39,
      "outputs": []
    },
    {
      "cell_type": "markdown",
      "metadata": {
        "id": "zR6YFOItvm_i"
      },
      "source": [
        "### **Train the Model**"
      ]
    },
    {
      "cell_type": "code",
      "metadata": {
        "id": "hdcqagTpP4bI",
        "colab": {
          "base_uri": "https://localhost:8080/",
          "height": 526
        },
        "outputId": "315002fc-2fb5-4ad0-ce8b-af1dfaabf650"
      },
      "source": [
        "# Train the BERT Model\n",
        "trainer.train()"
      ],
      "execution_count": 40,
      "outputs": [
        {
          "output_type": "stream",
          "name": "stderr",
          "text": [
            "***** Running training *****\n",
            "  Num examples = 7939\n",
            "  Num Epochs = 2\n",
            "  Instantaneous batch size per device = 16\n",
            "  Total train batch size (w. parallel, distributed & accumulation) = 16\n",
            "  Gradient Accumulation steps = 1\n",
            "  Total optimization steps = 994\n",
            "/usr/local/lib/python3.7/dist-packages/ipykernel_launcher.py:9: UserWarning: To copy construct from a tensor, it is recommended to use sourceTensor.clone().detach() or sourceTensor.clone().detach().requires_grad_(True), rather than torch.tensor(sourceTensor).\n",
            "  if __name__ == '__main__':\n"
          ]
        },
        {
          "output_type": "display_data",
          "data": {
            "text/html": [
              "\n",
              "    <div>\n",
              "      \n",
              "      <progress value='994' max='994' style='width:300px; height:20px; vertical-align: middle;'></progress>\n",
              "      [994/994 29:12, Epoch 2/2]\n",
              "    </div>\n",
              "    <table border=\"1\" class=\"dataframe\">\n",
              "  <thead>\n",
              "    <tr style=\"text-align: left;\">\n",
              "      <th>Step</th>\n",
              "      <th>Training Loss</th>\n",
              "      <th>Validation Loss</th>\n",
              "    </tr>\n",
              "  </thead>\n",
              "  <tbody>\n",
              "    <tr>\n",
              "      <td>500</td>\n",
              "      <td>0.264000</td>\n",
              "      <td>0.188291</td>\n",
              "    </tr>\n",
              "  </tbody>\n",
              "</table><p>"
            ],
            "text/plain": [
              "<IPython.core.display.HTML object>"
            ]
          },
          "metadata": {}
        },
        {
          "output_type": "stream",
          "name": "stderr",
          "text": [
            "***** Running Evaluation *****\n",
            "  Num examples = 690\n",
            "  Batch size = 16\n",
            "Saving model checkpoint to /drive/MyDrive/checkpoint-500\n",
            "Configuration saved in /drive/MyDrive/checkpoint-500/config.json\n",
            "Model weights saved in /drive/MyDrive/checkpoint-500/pytorch_model.bin\n",
            "/usr/local/lib/python3.7/dist-packages/ipykernel_launcher.py:9: UserWarning: To copy construct from a tensor, it is recommended to use sourceTensor.clone().detach() or sourceTensor.clone().detach().requires_grad_(True), rather than torch.tensor(sourceTensor).\n",
            "  if __name__ == '__main__':\n",
            "\n",
            "\n",
            "Training completed. Do not forget to share your model on huggingface.co/models =)\n",
            "\n",
            "\n"
          ]
        },
        {
          "output_type": "execute_result",
          "data": {
            "text/plain": [
              "TrainOutput(global_step=994, training_loss=0.23252983016507248, metrics={'train_runtime': 1754.2126, 'train_samples_per_second': 9.051, 'train_steps_per_second': 0.567, 'total_flos': 2730799135672008.0, 'train_loss': 0.23252983016507248, 'epoch': 2.0})"
            ]
          },
          "metadata": {},
          "execution_count": 40
        }
      ]
    },
    {
      "cell_type": "markdown",
      "metadata": {
        "id": "cTvJlrUxvEKO"
      },
      "source": [
        "### **Predict Toxic Span on Trial and Test Datasets**"
      ]
    },
    {
      "cell_type": "code",
      "metadata": {
        "id": "b2dZZLi9P6yO",
        "colab": {
          "base_uri": "https://localhost:8080/",
          "height": 196
        },
        "outputId": "f411d89d-fdc9-4c9b-a6c3-ab4ea2645982"
      },
      "source": [
        "# Evaluate the BERT Model on trial and test data\n",
        "trial_predictions = trainer.predict(trial_dataset)\n",
        "test_predictions = trainer.predict(test_dataset)"
      ],
      "execution_count": 41,
      "outputs": [
        {
          "output_type": "stream",
          "name": "stderr",
          "text": [
            "***** Running Prediction *****\n",
            "  Num examples = 690\n",
            "  Batch size = 16\n",
            "/usr/local/lib/python3.7/dist-packages/ipykernel_launcher.py:9: UserWarning: To copy construct from a tensor, it is recommended to use sourceTensor.clone().detach() or sourceTensor.clone().detach().requires_grad_(True), rather than torch.tensor(sourceTensor).\n",
            "  if __name__ == '__main__':\n"
          ]
        },
        {
          "output_type": "display_data",
          "data": {
            "text/html": [
              "\n",
              "    <div>\n",
              "      \n",
              "      <progress value='169' max='44' style='width:300px; height:20px; vertical-align: middle;'></progress>\n",
              "      [44/44 01:29]\n",
              "    </div>\n",
              "    "
            ],
            "text/plain": [
              "<IPython.core.display.HTML object>"
            ]
          },
          "metadata": {}
        },
        {
          "output_type": "stream",
          "name": "stderr",
          "text": [
            "***** Running Prediction *****\n",
            "  Num examples = 2000\n",
            "  Batch size = 16\n"
          ]
        }
      ]
    },
    {
      "cell_type": "markdown",
      "metadata": {
        "id": "aR2_E4GwvMvQ"
      },
      "source": [
        "### **Post-process the computed predictions**"
      ]
    },
    {
      "cell_type": "code",
      "metadata": {
        "id": "R8wmdSkHoDj3"
      },
      "source": [
        "# Post-process the predictions\n",
        "trial_processed_preds = post_process_predictions(trial_predictions, trial_offset_mapping, trial_posts_encodings)\n",
        "test_processed_preds = post_process_predictions(test_predictions, test_offset_mapping, test_posts_encodings)"
      ],
      "execution_count": 42,
      "outputs": []
    },
    {
      "cell_type": "markdown",
      "metadata": {
        "id": "Ubfbg8C1ulzZ"
      },
      "source": [
        "### **Compute Precision, Recall and F1-Score**"
      ]
    },
    {
      "cell_type": "code",
      "metadata": {
        "id": "C8972dQr_0T4",
        "colab": {
          "base_uri": "https://localhost:8080/"
        },
        "outputId": "39a058c1-ddb9-407e-87e1-8ad6c94fe124"
      },
      "source": [
        "# Compute final metrics\n",
        "trial_metrics = compute_metrics(trial_predictions, trail_spans, trial_offset_mapping, trial_posts_encodings)\n",
        "test_metrics = compute_metrics(test_predictions, test_spans, test_offset_mapping, test_posts_encodings)\n",
        "\n",
        "print(\"******Validation Evaluation Metrics**********\")\n",
        "print('Precision:{:.3f}'.format(trial_metrics[0]))\n",
        "print('Recall:{:.3f}'.format(trial_metrics[1]))\n",
        "print('F1-Score:{:.3f}'.format(trial_metrics[2]))\n",
        "\n",
        "print(\"*********Test Evaluation Metrics*************\")\n",
        "print('Precision:{:.3f}'.format(test_metrics[0]))\n",
        "print('Recall:{:.3f}'.format(test_metrics[1]))\n",
        "print('F1-Score:{:.3f}'.format(test_metrics[2]))\n"
      ],
      "execution_count": 43,
      "outputs": [
        {
          "output_type": "stream",
          "name": "stdout",
          "text": [
            "******Validation Evaluation Metrics**********\n",
            "Precision:0.760\n",
            "Recall:0.690\n",
            "F1-Score:0.671\n",
            "*********Test Evaluation Metrics*************\n",
            "Precision:0.656\n",
            "Recall:0.733\n",
            "F1-Score:0.665\n"
          ]
        }
      ]
    },
    {
      "cell_type": "code",
      "metadata": {
        "id": "jBYtghXH1pmg"
      },
      "source": [
        "torch.cuda.empty_cache()"
      ],
      "execution_count": 44,
      "outputs": []
    }
  ]
}